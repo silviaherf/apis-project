{
 "cells": [
  {
   "cell_type": "code",
   "execution_count": 1,
   "metadata": {},
   "outputs": [],
   "source": [
    "import requests\n",
    "from bs4 import BeautifulSoup\n",
    "import os\n",
    "from dotenv import load_dotenv\n",
    "from pathlib import Path  # Python 3.6+ only\n",
    "env_path = Path('/src') / '.env'\n",
    "load_dotenv(dotenv_path=env_path)\n",
    "load_dotenv()"
   ]
  },
  {
   "cell_type": "code",
   "execution_count": null,
   "metadata": {},
   "outputs": [],
   "source": [
    "#pendiente identificacion con api_key"
   ]
  },
  {
   "cell_type": "code",
   "execution_count": null,
   "metadata": {},
   "outputs": [],
   "source": [
    "def execute(query,api_key):\n",
    "  url = f\"https://api.nytimes.com/svc/movies/v2/reviews/search.json?order=by-title&query={query}&api-key={api_key}\"\n",
    "  requestHeaders = {\n",
    "    \"Accept\": \"application/json\"\n",
    "  }\n",
    "\n",
    "  request = requests.get(url)\n",
    "    response=BeautifulSoup(request,'html.parser')\n",
    "  \n",
    "print request.content\n",
    "\n"
   ]
  },
  {
   "cell_type": "markdown",
   "metadata": {},
   "source": [
    "# https://pypi.org/project/python-dotenv/\n",
    "load_dotenv()\n",
    "\n",
    "def get_nyt(query, api_key=os.getenv(\"GITHUB_APIKEY\")): \n",
    "    \"\"\"\n",
    "    Get data from github using query parameters and passing a custom apikey header\n",
    "    \"\"\"\n",
    "    \n",
    "    # Compose the endpoint url\n",
    "    url= f\"https://api.nytimes.com/svc/movies/v2/reviews/search.json?order=by-title&query={query}&api-key={api_key}\"\n",
    "\n",
    "    # Create the headers\n",
    "    headers = {\n",
    "        \"Authorization\": f\"Bearer {apiKey}\"\n",
    "    }\n",
    "    # make the request and get the response using HTTP GET verb \n",
    "    response = requests.get(url, params=query, headers=headers)\n",
    "    print(f\"Request data to {response.url} status_code:{res.status_code}\")\n",
    "    \n",
    "    data = res.json()\n",
    "    return data"
   ]
  },
  {
   "cell_type": "code",
   "execution_count": 12,
   "metadata": {},
   "outputs": [
    {
     "ename": "SyntaxError",
     "evalue": "Missing parentheses in call to 'print'. Did you mean print(request.content)? (<ipython-input-12-8fb432233729>, line 9)",
     "output_type": "error",
     "traceback": [
      "\u001b[0;36m  File \u001b[0;32m\"<ipython-input-12-8fb432233729>\"\u001b[0;36m, line \u001b[0;32m9\u001b[0m\n\u001b[0;31m    print request.content\u001b[0m\n\u001b[0m          ^\u001b[0m\n\u001b[0;31mSyntaxError\u001b[0m\u001b[0;31m:\u001b[0m Missing parentheses in call to 'print'. Did you mean print(request.content)?\n"
     ]
    }
   ],
   "source": [
    "def execute():\n",
    "  requestUrl = \"https://api.nytimes.com/svc/movies/v2/reviews/search.json?query=star%20wars&api-key=[YOUR_API_KEY]\"\n",
    "  requestHeaders = {\n",
    "    \"Accept\": \"application/json\"\n",
    "  }\n",
    "\n",
    "  request = requests.get(requestUrl, headers=requestHeaders)\n",
    "\n",
    "  print request.content"
   ]
  },
  {
   "cell_type": "code",
   "execution_count": 19,
   "metadata": {},
   "outputs": [],
   "source": [
    "query='star%20wars'\n",
    "api_key=os.getenv('NYT_APIKEY')"
   ]
  },
  {
   "cell_type": "code",
   "execution_count": 20,
   "metadata": {},
   "outputs": [
    {
     "data": {
      "text/plain": [
       "<Response [401]>"
      ]
     },
     "execution_count": 20,
     "metadata": {},
     "output_type": "execute_result"
    }
   ],
   "source": [
    "requests.get(f\"https://api.nytimes.com/svc/movies/v2/reviews/search.json?order=by-title&query={query}&api-key={api_key}\")"
   ]
  },
  {
   "cell_type": "code",
   "execution_count": null,
   "metadata": {},
   "outputs": [],
   "source": []
  }
 ],
 "metadata": {
  "kernelspec": {
   "display_name": "Python 3",
   "language": "python",
   "name": "python3"
  },
  "language_info": {
   "codemirror_mode": {
    "name": "ipython",
    "version": 3
   },
   "file_extension": ".py",
   "mimetype": "text/x-python",
   "name": "python",
   "nbconvert_exporter": "python",
   "pygments_lexer": "ipython3",
   "version": "3.8.2"
  }
 },
 "nbformat": 4,
 "nbformat_minor": 4
}
