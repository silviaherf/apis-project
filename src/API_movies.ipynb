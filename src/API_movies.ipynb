{
 "cells": [
  {
   "cell_type": "code",
   "execution_count": 45,
   "metadata": {},
   "outputs": [],
   "source": [
    "import requests\n",
    "import manipulating as man\n",
    "import pandas as pd\n",
    "import cleaning as clean\n",
    "import re\n",
    "import os\n",
    "from dotenv import load_dotenv\n",
    "#from pathlib import Path  \n",
    "#env_path = Path('/src') / '.env'"
   ]
  },
  {
   "cell_type": "code",
   "execution_count": 46,
   "metadata": {},
   "outputs": [],
   "source": [
    "#query='star%20wars'\n",
    "api_key=os.getenv('NYT_APIKEY')\n",
    "#reviews=get_url(api_key)"
   ]
  },
  {
   "cell_type": "code",
   "execution_count": 47,
   "metadata": {},
   "outputs": [
    {
     "data": {
      "text/plain": [
       "'\\nif response.status_code != 200:\\n    raise ValueError(f\\'Invalid github api call: {data[\"message\"]}\\')\\n\\nelse:\\n    print(f\"Requested data to {baseUrl}; status_code:{response.status_code}\")\\n\\n'"
      ]
     },
     "execution_count": 47,
     "metadata": {},
     "output_type": "execute_result"
    }
   ],
   "source": [
    "requestHeaders = {\n",
    "    \"Accept\": \"application/json\" \n",
    "  }\n",
    "url = f\"https://api.nytimes.com/svc/movies/v2/reviews/search.json?offset={20}&order=by-title&api-key={api_key}\"\n",
    "response = requests.get(url, headers=requestHeaders)\n",
    "data=response.json()\n",
    "\"\"\"\n",
    "if response.status_code != 200:\n",
    "    raise ValueError(f'Invalid github api call: {data[\"message\"]}')\n",
    "\n",
    "else:\n",
    "    print(f\"Requested data to {baseUrl}; status_code:{response.status_code}\")\n",
    "\n",
    "\"\"\"\n",
    "\n",
    "\n",
    "        "
   ]
  },
  {
   "cell_type": "code",
   "execution_count": 4,
   "metadata": {},
   "outputs": [
    {
     "data": {
      "text/plain": [
       "{'status': 'OK',\n",
       " 'copyright': 'Copyright (c) 2020 The New York Times Company. All Rights Reserved.',\n",
       " 'has_more': True,\n",
       " 'num_results': 20,\n",
       " 'results': [{'display_title': '#Female Pleasure',\n",
       "   'mpaa_rating': '',\n",
       "   'critics_pick': 0,\n",
       "   'byline': 'JEANNETTE CATSOULIS',\n",
       "   'headline': '‘#Female Pleasure’ Review: Fighting the Patriarchy',\n",
       "   'summary_short': 'Barbara Miller’s humane profile of five women fighting back against sexism and misogyny is a hopeful, clearheaded confessional.',\n",
       "   'publication_date': '2019-10-17',\n",
       "   'opening_date': '2019-10-18',\n",
       "   'date_updated': '2019-10-25 16:44:02',\n",
       "   'link': {'type': 'article',\n",
       "    'url': 'http://www.nytimes.com/2019/10/17/movies/female-pleasure-review.html',\n",
       "    'suggested_link_text': 'Read the New York Times Review of #Female Pleasure'},\n",
       "   'multimedia': {'type': 'mediumThreeByTwo210',\n",
       "    'src': 'https://static01.nyt.com/images/2019/10/15/arts/female1/female1-mediumThreeByTwo210.jpg',\n",
       "    'width': 210,\n",
       "    'height': 140}},\n",
       "  {'display_title': '#Horror',\n",
       "   'mpaa_rating': 'Not Rated',\n",
       "   'critics_pick': 0,\n",
       "   'byline': 'JEANNETTE CATSOULIS',\n",
       "   'headline': 'Review: ‘#Horror’ Finds the Fear in Cyberbullying and Social Media Threats',\n",
       "   'summary_short': 'In this feature directorial debut by Tara Subkoff, girls neglected by their parents and obsessed with their cellphones fall prey to perils of the online world.',\n",
       "   'publication_date': '2015-11-19',\n",
       "   'opening_date': '2015-11-20',\n",
       "   'date_updated': '2017-11-02 04:18:23',\n",
       "   'link': {'type': 'article',\n",
       "    'url': 'http://www.nytimes.com/2015/11/20/movies/review-horror-finds-the-fear-in-cyberbullying-and-social-media-threats.html',\n",
       "    'suggested_link_text': 'Read the New York Times Review of #Horror'},\n",
       "   'multimedia': {'type': 'mediumThreeByTwo210',\n",
       "    'src': 'https://static01.nyt.com/images/2015/11/20/arts/20SUBHORROR/20SUBHORROR-mediumThreeByTwo210.jpg',\n",
       "    'width': 210,\n",
       "    'height': 140}},\n",
       "  {'display_title': '#Stuck',\n",
       "   'mpaa_rating': '',\n",
       "   'critics_pick': 0,\n",
       "   'byline': 'NICOLAS RAPOLD',\n",
       "   'headline': 'Road Rage as Aphrodisiac',\n",
       "   'summary_short': '&#8220;Stuck&#8221; centers on a couple who meet at a bar, spend the night together and then endure being caught in a morning traffic jam.',\n",
       "   'publication_date': '2014-10-09',\n",
       "   'opening_date': '2014-10-10',\n",
       "   'date_updated': '2017-11-02 04:18:19',\n",
       "   'link': {'type': 'article',\n",
       "    'url': 'http://www.nytimes.com/2014/10/10/movies/stuck-about-an-awkward-couple-in-a-traffic-jam.html',\n",
       "    'suggested_link_text': 'Read the New York Times Review of #Stuck'},\n",
       "   'multimedia': {'type': 'mediumThreeByTwo210',\n",
       "    'src': 'https://static01.nyt.com/images/2014/10/10/arts/10SUBSTUCK/SUBSTUCK-mediumThreeByTwo210.jpg',\n",
       "    'width': 210,\n",
       "    'height': 140}},\n",
       "  {'display_title': '$1,000 a Touchdown',\n",
       "   'mpaa_rating': '',\n",
       "   'critics_pick': 0,\n",
       "   'byline': 'FRANK S. NUGENT',\n",
       "   'headline': '$1,000 a Touchdown',\n",
       "   'summary_short': 'An old rah-rah antique, but dig those three.',\n",
       "   'publication_date': '1939-10-05',\n",
       "   'opening_date': '1939-10-04',\n",
       "   'date_updated': '2017-11-02 04:17:01',\n",
       "   'link': {'type': 'article',\n",
       "    'url': 'http://www.nytimes.com/1939/10/05/archives/the-screen.html',\n",
       "    'suggested_link_text': 'Read the New York Times Review of $1,000 a Touchdown'},\n",
       "   'multimedia': None},\n",
       "  {'display_title': '$9.99',\n",
       "   'mpaa_rating': 'R',\n",
       "   'critics_pick': 0,\n",
       "   'byline': 'A. O. SCOTT',\n",
       "   'headline': 'Figures Made of Clay in an Imaginary World',\n",
       "   'summary_short': '“$9.99” uses an extraordinary technique to bring the Israeli writer Etgar Keret’s world to life.',\n",
       "   'publication_date': '2009-06-18',\n",
       "   'opening_date': None,\n",
       "   'date_updated': '2017-11-02 04:16:26',\n",
       "   'link': {'type': 'article',\n",
       "    'url': 'http://www.nytimes.com/2009/06/19/movies/19nine.html',\n",
       "    'suggested_link_text': 'Read the New York Times Review of $9.99'},\n",
       "   'multimedia': None},\n",
       "  {'display_title': 'Spent',\n",
       "   'mpaa_rating': '',\n",
       "   'critics_pick': 0,\n",
       "   'byline': 'Elvis Mitchell',\n",
       "   'headline': 'Spent (Movie)  ',\n",
       "   'summary_short': '',\n",
       "   'publication_date': '2000-08-25',\n",
       "   'opening_date': None,\n",
       "   'date_updated': '2017-11-02 04:16:15',\n",
       "   'link': {'type': 'article',\n",
       "    'url': 'http://www.nytimes.com/2000/08/25/movies/film-review-odds-are-this-gambler-s-got-problems.html',\n",
       "    'suggested_link_text': 'Read the New York Times Review of Spent'},\n",
       "   'multimedia': None},\n",
       "  {'display_title': '38: Vienna Before the Fall',\n",
       "   'mpaa_rating': '',\n",
       "   'critics_pick': 0,\n",
       "   'byline': 'JANET MASLIN',\n",
       "   'headline': '38: VIENNA BEFORE THE FALL (MOVIE)',\n",
       "   'summary_short': '',\n",
       "   'publication_date': '1988-05-06',\n",
       "   'opening_date': None,\n",
       "   'date_updated': '2017-11-02 04:16:08',\n",
       "   'link': {'type': 'article',\n",
       "    'url': 'http://www.nytimes.com/1988/05/06/movies/review-film-self-absorbed-oblivion-before-the-nazi-storm.html',\n",
       "    'suggested_link_text': 'Read the New York Times Review of 38: Vienna Before the Fall'},\n",
       "   'multimedia': None},\n",
       "  {'display_title': \"'71\",\n",
       "   'mpaa_rating': 'R',\n",
       "   'critics_pick': 1,\n",
       "   'byline': 'MANOHLA DARGIS',\n",
       "   'headline': 'Review: In ‘ ’71,’ Young, Green and Behind Enemy Lines',\n",
       "   'summary_short': 'In Belfast, 1971 was an eventful year of demands and bloodshed, and it was not always clear who was the enemy.',\n",
       "   'publication_date': '2015-02-26',\n",
       "   'opening_date': None,\n",
       "   'date_updated': '2017-11-02 04:16:40',\n",
       "   'link': {'type': 'article',\n",
       "    'url': 'http://www.nytimes.com/2015/02/27/movies/review-in-71-young-green-and-behind-enemy-lines.html',\n",
       "    'suggested_link_text': \"Read the New York Times Review of '71\"},\n",
       "   'multimedia': {'type': 'mediumThreeByTwo210',\n",
       "    'src': 'https://static01.nyt.com/images/2015/02/27/arts/27SEVENTYJP/27SEVENTYJP-mediumThreeByTwo210.jpg',\n",
       "    'width': 210,\n",
       "    'height': 140}},\n",
       "  {'display_title': 'C-Man',\n",
       "   'mpaa_rating': '',\n",
       "   'critics_pick': 0,\n",
       "   'byline': 'H. H. T.',\n",
       "   'headline': 'C-Man',\n",
       "   'summary_short': '',\n",
       "   'publication_date': '1949-05-28',\n",
       "   'opening_date': None,\n",
       "   'date_updated': '2017-11-02 04:15:51',\n",
       "   'link': {'type': 'article',\n",
       "    'url': 'http://www.nytimes.com/1949/05/28/archives/-younger-brothers-western-bill-at-strand-rialto-offers-cman-crime.html',\n",
       "    'suggested_link_text': 'Read the New York Times Review of C-Man'},\n",
       "   'multimedia': None},\n",
       "  {'display_title': 'Doc',\n",
       "   'mpaa_rating': 'PG',\n",
       "   'critics_pick': 0,\n",
       "   'byline': 'HOWARD THOMPSON.',\n",
       "   'headline': 'Doc (Movie)',\n",
       "   'summary_short': \"Holliday and Earp, from Holliday's point of view.  Interesting but verbose  revisionist western.\",\n",
       "   'publication_date': '1971-08-19',\n",
       "   'opening_date': '1971-08-01',\n",
       "   'date_updated': '2017-11-02 04:17:25',\n",
       "   'link': {'type': 'article',\n",
       "    'url': 'http://www.nytimes.com/1971/08/19/archives/an-enigmatic-doc.html',\n",
       "    'suggested_link_text': 'Read the New York Times Review of Doc'},\n",
       "   'multimedia': None},\n",
       "  {'display_title': 'Gung Ho!',\n",
       "   'mpaa_rating': '',\n",
       "   'critics_pick': 0,\n",
       "   'byline': 'BOSLEY CROWTHER',\n",
       "   'headline': 'Gung Ho!',\n",
       "   'summary_short': 'Fine World War II battles, otherwise rah-rah cliches.',\n",
       "   'publication_date': '1944-01-26',\n",
       "   'opening_date': '1943-12-20',\n",
       "   'date_updated': '2017-11-02 04:17:07',\n",
       "   'link': {'type': 'article',\n",
       "    'url': 'http://www.nytimes.com/1944/01/26/archives/the-screen-gung-ho-a-lurid-action-film-about-the-makin-island-raid.html',\n",
       "    'suggested_link_text': 'Read the New York Times Review of Gung Ho!'},\n",
       "   'multimedia': None},\n",
       "  {'display_title': \"I Know Where I'm Going!\",\n",
       "   'mpaa_rating': 'Not Rated',\n",
       "   'critics_pick': 1,\n",
       "   'byline': 'T.M.P.',\n",
       "   'headline': \"I Know Where I'm Going\",\n",
       "   'summary_short': \"Enchanting romantic comedy about London girl in remote Scottish Hebrides. Another gem from ``The Red Shoes'' duo.\",\n",
       "   'publication_date': '1947-08-20',\n",
       "   'opening_date': '1947-08-09',\n",
       "   'date_updated': '2017-11-02 04:17:09',\n",
       "   'link': {'type': 'article',\n",
       "    'url': 'http://www.nytimes.com/1947/08/20/archives/-i-know-where-im-going-film-from-britain-that-is-nature.html',\n",
       "    'suggested_link_text': \"Read the New York Times Review of I Know Where I'm Going!\"},\n",
       "   'multimedia': None},\n",
       "  {'display_title': 'Kukan',\n",
       "   'mpaa_rating': '',\n",
       "   'critics_pick': 0,\n",
       "   'byline': 'BOSLEY CROWTHER',\n",
       "   'headline': 'Kukan',\n",
       "   'summary_short': '',\n",
       "   'publication_date': '1941-06-24',\n",
       "   'opening_date': '1941-06-23',\n",
       "   'date_updated': '2017-11-02 04:17:03',\n",
       "   'link': {'type': 'article',\n",
       "    'url': 'http://www.nytimes.com/1941/06/24/archives/-kukan-a-vivid-fact-film-about-modern-china-and-its-myriad-peoples-.html',\n",
       "    'suggested_link_text': 'Read the New York Times Review of Kukan'},\n",
       "   'multimedia': None},\n",
       "  {'display_title': \"'Night Mother\",\n",
       "   'mpaa_rating': 'PG-13',\n",
       "   'critics_pick': 0,\n",
       "   'byline': 'JANET MASLIN',\n",
       "   'headline': 'NIGHT, MOTHER (MOVIE)',\n",
       "   'summary_short': \"Talky and tedious. Camera skewers Norman's Pulitzer play about suicide-bent daughter.\",\n",
       "   'publication_date': '1986-09-12',\n",
       "   'opening_date': None,\n",
       "   'date_updated': '2017-11-02 04:16:08',\n",
       "   'link': {'type': 'article',\n",
       "    'url': 'http://www.nytimes.com/1986/09/12/movies/film-sissy-spacek-in-night-mother.html',\n",
       "    'suggested_link_text': \"Read the New York Times Review of 'Night Mother\"},\n",
       "   'multimedia': None},\n",
       "  {'display_title': 'Non, ou la vaine gloire de commander',\n",
       "   'mpaa_rating': '',\n",
       "   'critics_pick': 0,\n",
       "   'byline': 'VINCENT CANBY',\n",
       "   'headline': 'NO, OR THE VAIN GLORY OF COMMAND (MOVIE)',\n",
       "   'summary_short': '',\n",
       "   'publication_date': '1990-09-26',\n",
       "   'opening_date': None,\n",
       "   'date_updated': '2017-11-02 04:16:10',\n",
       "   'link': {'type': 'article',\n",
       "    'url': 'http://www.nytimes.com/1990/09/26/movies/reviews-film-festival-arms-and-the-portuguese-roman-times-to-angola.html',\n",
       "    'suggested_link_text': 'Read the New York Times Review of Non, ou la vaine gloire de commander'},\n",
       "   'multimedia': None},\n",
       "  {'display_title': 'Pimpernel Smith',\n",
       "   'mpaa_rating': '',\n",
       "   'critics_pick': 0,\n",
       "   'byline': 'T.S.',\n",
       "   'headline': 'Mister V',\n",
       "   'summary_short': 'Another anti-Nazi spy. Colorful portions, charming Howard, but rather slack and often fanciful.',\n",
       "   'publication_date': '1942-02-13',\n",
       "   'opening_date': None,\n",
       "   'date_updated': '2017-11-02 04:15:50',\n",
       "   'link': {'type': 'article',\n",
       "    'url': 'http://www.nytimes.com/1942/02/13/archives/mr-v-a-british-melodrama-with-leslie-howard-opens-at-rivoli.html',\n",
       "    'suggested_link_text': 'Read the New York Times Review of Pimpernel Smith'},\n",
       "   'multimedia': None},\n",
       "  {'display_title': \"'R Xmas\",\n",
       "   'mpaa_rating': 'R',\n",
       "   'critics_pick': 0,\n",
       "   'byline': 'Stephen Holden',\n",
       "   'headline': 'R Xmas (Movie)',\n",
       "   'summary_short': \"&quot;'R Xmas,&quot; like many of the director Abel Ferrara's films, fixes its jaundiced  gaze on the  festering underbelly of urban life with a hard-boiled relentlessness that makes &quot;The Sopranos&quot; seem almost sappy. That comparison is not an idle one. The film's stars, Drea de Matteo and Lillo Brancato, who play married drug dealers in New York, are both veterans of the popular Home Box Office series. Here their characters remain unnamed and (alas!) undeveloped beyond their stereotypes. All we learn of the couple is that both are Latino immigrants (he's from the Dominican Republic and she's from Puerto Rico) bringing up an 11-year-old daughter (Lisa Valens) whom they spoil outrageously. — Stephen Holden\",\n",
       "   'publication_date': '2002-11-22',\n",
       "   'opening_date': None,\n",
       "   'date_updated': '2017-11-02 04:16:18',\n",
       "   'link': {'type': 'article',\n",
       "    'url': 'http://www.nytimes.com/2002/11/22/movies/film-review-seeking-a-gift-on-a-brutal-christmas-eve.html',\n",
       "    'suggested_link_text': \"Read the New York Times Review of 'R Xmas\"},\n",
       "   'multimedia': None},\n",
       "  {'display_title': 'Round Midnight',\n",
       "   'mpaa_rating': 'R',\n",
       "   'critics_pick': 1,\n",
       "   'byline': 'Janet Maslin',\n",
       "   'headline': 'ROUND MIDNIGHT (MOVIE)',\n",
       "   'summary_short': 'American expatriate jazz musician and idolizing young Frenchman, Paris, 1959. Effective drama, marvelous music.',\n",
       "   'publication_date': '1986-09-30',\n",
       "   'opening_date': '1986-10-03',\n",
       "   'date_updated': '2017-11-02 04:17:36',\n",
       "   'link': {'type': 'article',\n",
       "    'url': 'http://www.nytimes.com/1986/09/30/movies/film-festival-dexter-gordon-stars-in-round-midnight.html',\n",
       "    'suggested_link_text': 'Read the New York Times Review of Round Midnight'},\n",
       "   'multimedia': None},\n",
       "  {'display_title': \"'Til Madness Do Us Part\",\n",
       "   'mpaa_rating': '',\n",
       "   'critics_pick': 0,\n",
       "   'byline': 'BEN KENIGSBERG',\n",
       "   'headline': 'Review: ‘’Til Madness Do Us Part’ Finds Hell and Humanity',\n",
       "   'summary_short': 'Wang Bing’s documentary about a mental hospital in China is overlong but sporadically extraordinary.',\n",
       "   'publication_date': '2016-06-08',\n",
       "   'opening_date': '2016-06-09',\n",
       "   'date_updated': '2017-11-02 04:18:24',\n",
       "   'link': {'type': 'article',\n",
       "    'url': 'http://www.nytimes.com/2016/06/09/movies/review-til-madness-do-us-part-finds-hell-and-humanity.html',\n",
       "    'suggested_link_text': \"Read the New York Times Review of 'Til Madness Do Us Part\"},\n",
       "   'multimedia': {'type': 'mediumThreeByTwo210',\n",
       "    'src': 'https://static01.nyt.com/images/2016/06/09/arts/09TILMADNESS/09TILMADNESS-mediumThreeByTwo210.jpg',\n",
       "    'width': 210,\n",
       "    'height': 140}},\n",
       "  {'display_title': \"'til There Was You\",\n",
       "   'mpaa_rating': 'PG-13',\n",
       "   'critics_pick': 0,\n",
       "   'byline': 'JANET MASLIN',\n",
       "   'headline': 'Til There Was You (Movie)  ',\n",
       "   'summary_short': 'Two lonely but busy people. Mechanical romantic comedy.',\n",
       "   'publication_date': '1997-05-30',\n",
       "   'opening_date': '1997-05-30',\n",
       "   'date_updated': '2017-11-02 04:17:53',\n",
       "   'link': {'type': 'article',\n",
       "    'url': 'http://www.nytimes.com/1997/05/30/movies/blueprint-for-a-meet-greet-and-marry.html',\n",
       "    'suggested_link_text': \"Read the New York Times Review of 'til There Was You\"},\n",
       "   'multimedia': None}]}"
      ]
     },
     "execution_count": 4,
     "metadata": {},
     "output_type": "execute_result"
    }
   ],
   "source": [
    "data"
   ]
  },
  {
   "cell_type": "code",
   "execution_count": 7,
   "metadata": {},
   "outputs": [
    {
     "name": "stdout",
     "output_type": "stream",
     "text": [
      "Please, enter the folder where your cvs file is saved:\n",
      "src\n",
      "Please, enter the name for the cvs file you want to open without extension:\n",
      "movies\n"
     ]
    }
   ],
   "source": [
    "movies=man.open_csv()"
   ]
  },
  {
   "cell_type": "code",
   "execution_count": 28,
   "metadata": {},
   "outputs": [
    {
     "data": {
      "text/html": [
       "<div>\n",
       "<style scoped>\n",
       "    .dataframe tbody tr th:only-of-type {\n",
       "        vertical-align: middle;\n",
       "    }\n",
       "\n",
       "    .dataframe tbody tr th {\n",
       "        vertical-align: top;\n",
       "    }\n",
       "\n",
       "    .dataframe thead th {\n",
       "        text-align: right;\n",
       "    }\n",
       "</style>\n",
       "<table border=\"1\" class=\"dataframe\">\n",
       "  <thead>\n",
       "    <tr style=\"text-align: right;\">\n",
       "      <th></th>\n",
       "      <th>Title</th>\n",
       "      <th>Year</th>\n",
       "      <th>Age</th>\n",
       "      <th>IMDb</th>\n",
       "      <th>Netflix</th>\n",
       "      <th>Hulu</th>\n",
       "      <th>Prime_Video</th>\n",
       "      <th>Disney+</th>\n",
       "      <th>Type</th>\n",
       "      <th>Directors</th>\n",
       "      <th>Genres</th>\n",
       "      <th>Country</th>\n",
       "      <th>Language</th>\n",
       "      <th>Runtime</th>\n",
       "    </tr>\n",
       "  </thead>\n",
       "  <tbody>\n",
       "    <tr>\n",
       "      <th>0</th>\n",
       "      <td>Inception</td>\n",
       "      <td>2010</td>\n",
       "      <td>13+</td>\n",
       "      <td>8.8</td>\n",
       "      <td>1</td>\n",
       "      <td>0</td>\n",
       "      <td>0</td>\n",
       "      <td>0</td>\n",
       "      <td>0</td>\n",
       "      <td>Christopher Nolan</td>\n",
       "      <td>Action,Adventure,Sci-Fi,Thriller</td>\n",
       "      <td>United States,United Kingdom</td>\n",
       "      <td>English,Japanese,French</td>\n",
       "      <td>148.0</td>\n",
       "    </tr>\n",
       "    <tr>\n",
       "      <th>1</th>\n",
       "      <td>The Matrix</td>\n",
       "      <td>1999</td>\n",
       "      <td>18+</td>\n",
       "      <td>8.7</td>\n",
       "      <td>1</td>\n",
       "      <td>0</td>\n",
       "      <td>0</td>\n",
       "      <td>0</td>\n",
       "      <td>0</td>\n",
       "      <td>Lana Wachowski,Lilly Wachowski</td>\n",
       "      <td>Action,Sci-Fi</td>\n",
       "      <td>United States</td>\n",
       "      <td>English</td>\n",
       "      <td>136.0</td>\n",
       "    </tr>\n",
       "    <tr>\n",
       "      <th>2</th>\n",
       "      <td>Avengers: Infinity War</td>\n",
       "      <td>2018</td>\n",
       "      <td>13+</td>\n",
       "      <td>8.5</td>\n",
       "      <td>1</td>\n",
       "      <td>0</td>\n",
       "      <td>0</td>\n",
       "      <td>0</td>\n",
       "      <td>0</td>\n",
       "      <td>Anthony Russo,Joe Russo</td>\n",
       "      <td>Action,Adventure,Sci-Fi</td>\n",
       "      <td>United States</td>\n",
       "      <td>English</td>\n",
       "      <td>149.0</td>\n",
       "    </tr>\n",
       "    <tr>\n",
       "      <th>3</th>\n",
       "      <td>Back to the Future</td>\n",
       "      <td>1985</td>\n",
       "      <td>7+</td>\n",
       "      <td>8.5</td>\n",
       "      <td>1</td>\n",
       "      <td>0</td>\n",
       "      <td>0</td>\n",
       "      <td>0</td>\n",
       "      <td>0</td>\n",
       "      <td>Robert Zemeckis</td>\n",
       "      <td>Adventure,Comedy,Sci-Fi</td>\n",
       "      <td>United States</td>\n",
       "      <td>English</td>\n",
       "      <td>116.0</td>\n",
       "    </tr>\n",
       "    <tr>\n",
       "      <th>4</th>\n",
       "      <td>The Good, the Bad and the Ugly</td>\n",
       "      <td>1966</td>\n",
       "      <td>18+</td>\n",
       "      <td>8.8</td>\n",
       "      <td>1</td>\n",
       "      <td>0</td>\n",
       "      <td>1</td>\n",
       "      <td>0</td>\n",
       "      <td>0</td>\n",
       "      <td>Sergio Leone</td>\n",
       "      <td>Western</td>\n",
       "      <td>Italy,Spain,West Germany</td>\n",
       "      <td>Italian</td>\n",
       "      <td>161.0</td>\n",
       "    </tr>\n",
       "  </tbody>\n",
       "</table>\n",
       "</div>"
      ],
      "text/plain": [
       "                            Title  Year  Age  IMDb  Netflix  Hulu  \\\n",
       "0                       Inception  2010  13+   8.8        1     0   \n",
       "1                      The Matrix  1999  18+   8.7        1     0   \n",
       "2          Avengers: Infinity War  2018  13+   8.5        1     0   \n",
       "3              Back to the Future  1985   7+   8.5        1     0   \n",
       "4  The Good, the Bad and the Ugly  1966  18+   8.8        1     0   \n",
       "\n",
       "   Prime_Video  Disney+  Type                       Directors  \\\n",
       "0            0        0     0               Christopher Nolan   \n",
       "1            0        0     0  Lana Wachowski,Lilly Wachowski   \n",
       "2            0        0     0         Anthony Russo,Joe Russo   \n",
       "3            0        0     0                 Robert Zemeckis   \n",
       "4            1        0     0                    Sergio Leone   \n",
       "\n",
       "                             Genres                       Country  \\\n",
       "0  Action,Adventure,Sci-Fi,Thriller  United States,United Kingdom   \n",
       "1                     Action,Sci-Fi                 United States   \n",
       "2           Action,Adventure,Sci-Fi                 United States   \n",
       "3           Adventure,Comedy,Sci-Fi                 United States   \n",
       "4                           Western      Italy,Spain,West Germany   \n",
       "\n",
       "                  Language  Runtime  \n",
       "0  English,Japanese,French    148.0  \n",
       "1                  English    136.0  \n",
       "2                  English    149.0  \n",
       "3                  English    116.0  \n",
       "4                  Italian    161.0  "
      ]
     },
     "execution_count": 28,
     "metadata": {},
     "output_type": "execute_result"
    }
   ],
   "source": [
    "movies.head()"
   ]
  },
  {
   "cell_type": "code",
   "execution_count": 48,
   "metadata": {},
   "outputs": [],
   "source": [
    "reviews=pd.DataFrame.from_dict(data['results'], orient='columns')"
   ]
  },
  {
   "cell_type": "code",
   "execution_count": 49,
   "metadata": {},
   "outputs": [],
   "source": [
    "clean.rename_columns(reviews)"
   ]
  },
  {
   "cell_type": "code",
   "execution_count": 50,
   "metadata": {},
   "outputs": [
    {
     "data": {
      "text/html": [
       "<div>\n",
       "<style scoped>\n",
       "    .dataframe tbody tr th:only-of-type {\n",
       "        vertical-align: middle;\n",
       "    }\n",
       "\n",
       "    .dataframe tbody tr th {\n",
       "        vertical-align: top;\n",
       "    }\n",
       "\n",
       "    .dataframe thead th {\n",
       "        text-align: right;\n",
       "    }\n",
       "</style>\n",
       "<table border=\"1\" class=\"dataframe\">\n",
       "  <thead>\n",
       "    <tr style=\"text-align: right;\">\n",
       "      <th></th>\n",
       "      <th>display_title</th>\n",
       "      <th>mpaa_rating</th>\n",
       "      <th>critics_pick</th>\n",
       "      <th>byline</th>\n",
       "      <th>headline</th>\n",
       "      <th>summary_short</th>\n",
       "      <th>publication_date</th>\n",
       "      <th>opening_date</th>\n",
       "      <th>date_updated</th>\n",
       "      <th>link</th>\n",
       "      <th>multimedia</th>\n",
       "    </tr>\n",
       "  </thead>\n",
       "  <tbody>\n",
       "    <tr>\n",
       "      <th>0</th>\n",
       "      <td>#Female Pleasure</td>\n",
       "      <td></td>\n",
       "      <td>0</td>\n",
       "      <td>JEANNETTE CATSOULIS</td>\n",
       "      <td>‘#Female Pleasure’ Review: Fighting the Patria...</td>\n",
       "      <td>Barbara Miller’s humane profile of five women ...</td>\n",
       "      <td>2019-10-17</td>\n",
       "      <td>2019-10-18</td>\n",
       "      <td>2019-10-25 16:44:02</td>\n",
       "      <td>{'type': 'article', 'url': 'http://www.nytimes...</td>\n",
       "      <td>{'type': 'mediumThreeByTwo210', 'src': 'https:...</td>\n",
       "    </tr>\n",
       "    <tr>\n",
       "      <th>1</th>\n",
       "      <td>#Horror</td>\n",
       "      <td>Not Rated</td>\n",
       "      <td>0</td>\n",
       "      <td>JEANNETTE CATSOULIS</td>\n",
       "      <td>Review: ‘#Horror’ Finds the Fear in Cyberbully...</td>\n",
       "      <td>In this feature directorial debut by Tara Subk...</td>\n",
       "      <td>2015-11-19</td>\n",
       "      <td>2015-11-20</td>\n",
       "      <td>2017-11-02 04:18:23</td>\n",
       "      <td>{'type': 'article', 'url': 'http://www.nytimes...</td>\n",
       "      <td>{'type': 'mediumThreeByTwo210', 'src': 'https:...</td>\n",
       "    </tr>\n",
       "    <tr>\n",
       "      <th>2</th>\n",
       "      <td>#Stuck</td>\n",
       "      <td></td>\n",
       "      <td>0</td>\n",
       "      <td>NICOLAS RAPOLD</td>\n",
       "      <td>Road Rage as Aphrodisiac</td>\n",
       "      <td>&amp;#8220;Stuck&amp;#8221; centers on a couple who me...</td>\n",
       "      <td>2014-10-09</td>\n",
       "      <td>2014-10-10</td>\n",
       "      <td>2017-11-02 04:18:19</td>\n",
       "      <td>{'type': 'article', 'url': 'http://www.nytimes...</td>\n",
       "      <td>{'type': 'mediumThreeByTwo210', 'src': 'https:...</td>\n",
       "    </tr>\n",
       "    <tr>\n",
       "      <th>3</th>\n",
       "      <td>$1,000 a Touchdown</td>\n",
       "      <td></td>\n",
       "      <td>0</td>\n",
       "      <td>FRANK S. NUGENT</td>\n",
       "      <td>$1,000 a Touchdown</td>\n",
       "      <td>An old rah-rah antique, but dig those three.</td>\n",
       "      <td>1939-10-05</td>\n",
       "      <td>1939-10-04</td>\n",
       "      <td>2017-11-02 04:17:01</td>\n",
       "      <td>{'type': 'article', 'url': 'http://www.nytimes...</td>\n",
       "      <td>None</td>\n",
       "    </tr>\n",
       "    <tr>\n",
       "      <th>4</th>\n",
       "      <td>$9.99</td>\n",
       "      <td>R</td>\n",
       "      <td>0</td>\n",
       "      <td>A. O. SCOTT</td>\n",
       "      <td>Figures Made of Clay in an Imaginary World</td>\n",
       "      <td>“$9.99” uses an extraordinary technique to bri...</td>\n",
       "      <td>2009-06-18</td>\n",
       "      <td>None</td>\n",
       "      <td>2017-11-02 04:16:26</td>\n",
       "      <td>{'type': 'article', 'url': 'http://www.nytimes...</td>\n",
       "      <td>None</td>\n",
       "    </tr>\n",
       "  </tbody>\n",
       "</table>\n",
       "</div>"
      ],
      "text/plain": [
       "        display_title mpaa_rating  critics_pick               byline  \\\n",
       "0    #Female Pleasure                         0  JEANNETTE CATSOULIS   \n",
       "1             #Horror   Not Rated             0  JEANNETTE CATSOULIS   \n",
       "2              #Stuck                         0       NICOLAS RAPOLD   \n",
       "3  $1,000 a Touchdown                         0      FRANK S. NUGENT   \n",
       "4               $9.99           R             0          A. O. SCOTT   \n",
       "\n",
       "                                            headline  \\\n",
       "0  ‘#Female Pleasure’ Review: Fighting the Patria...   \n",
       "1  Review: ‘#Horror’ Finds the Fear in Cyberbully...   \n",
       "2                           Road Rage as Aphrodisiac   \n",
       "3                                 $1,000 a Touchdown   \n",
       "4         Figures Made of Clay in an Imaginary World   \n",
       "\n",
       "                                       summary_short publication_date  \\\n",
       "0  Barbara Miller’s humane profile of five women ...       2019-10-17   \n",
       "1  In this feature directorial debut by Tara Subk...       2015-11-19   \n",
       "2  &#8220;Stuck&#8221; centers on a couple who me...       2014-10-09   \n",
       "3       An old rah-rah antique, but dig those three.       1939-10-05   \n",
       "4  “$9.99” uses an extraordinary technique to bri...       2009-06-18   \n",
       "\n",
       "  opening_date         date_updated  \\\n",
       "0   2019-10-18  2019-10-25 16:44:02   \n",
       "1   2015-11-20  2017-11-02 04:18:23   \n",
       "2   2014-10-10  2017-11-02 04:18:19   \n",
       "3   1939-10-04  2017-11-02 04:17:01   \n",
       "4         None  2017-11-02 04:16:26   \n",
       "\n",
       "                                                link  \\\n",
       "0  {'type': 'article', 'url': 'http://www.nytimes...   \n",
       "1  {'type': 'article', 'url': 'http://www.nytimes...   \n",
       "2  {'type': 'article', 'url': 'http://www.nytimes...   \n",
       "3  {'type': 'article', 'url': 'http://www.nytimes...   \n",
       "4  {'type': 'article', 'url': 'http://www.nytimes...   \n",
       "\n",
       "                                          multimedia  \n",
       "0  {'type': 'mediumThreeByTwo210', 'src': 'https:...  \n",
       "1  {'type': 'mediumThreeByTwo210', 'src': 'https:...  \n",
       "2  {'type': 'mediumThreeByTwo210', 'src': 'https:...  \n",
       "3                                               None  \n",
       "4                                               None  "
      ]
     },
     "execution_count": 50,
     "metadata": {},
     "output_type": "execute_result"
    }
   ],
   "source": [
    "reviews.head()"
   ]
  },
  {
   "cell_type": "code",
   "execution_count": 51,
   "metadata": {},
   "outputs": [],
   "source": [
    "reviews=clean.drop_columns(reviews,['critics_pick','mpaa_rating','summary_short','opening_date','date_updated','multimedia']).head()"
   ]
  },
  {
   "cell_type": "code",
   "execution_count": 52,
   "metadata": {},
   "outputs": [
    {
     "data": {
      "text/html": [
       "<div>\n",
       "<style scoped>\n",
       "    .dataframe tbody tr th:only-of-type {\n",
       "        vertical-align: middle;\n",
       "    }\n",
       "\n",
       "    .dataframe tbody tr th {\n",
       "        vertical-align: top;\n",
       "    }\n",
       "\n",
       "    .dataframe thead th {\n",
       "        text-align: right;\n",
       "    }\n",
       "</style>\n",
       "<table border=\"1\" class=\"dataframe\">\n",
       "  <thead>\n",
       "    <tr style=\"text-align: right;\">\n",
       "      <th></th>\n",
       "      <th>display_title</th>\n",
       "      <th>reviewer</th>\n",
       "      <th>headline</th>\n",
       "      <th>publication_date</th>\n",
       "      <th>link</th>\n",
       "    </tr>\n",
       "  </thead>\n",
       "  <tbody>\n",
       "    <tr>\n",
       "      <th>0</th>\n",
       "      <td>#Female Pleasure</td>\n",
       "      <td>JEANNETTE CATSOULIS</td>\n",
       "      <td>‘#Female Pleasure’ Review: Fighting the Patria...</td>\n",
       "      <td>2019-10-17</td>\n",
       "      <td>{'type': 'article', 'url': 'http://www.nytimes...</td>\n",
       "    </tr>\n",
       "    <tr>\n",
       "      <th>1</th>\n",
       "      <td>#Horror</td>\n",
       "      <td>JEANNETTE CATSOULIS</td>\n",
       "      <td>Review: ‘#Horror’ Finds the Fear in Cyberbully...</td>\n",
       "      <td>2015-11-19</td>\n",
       "      <td>{'type': 'article', 'url': 'http://www.nytimes...</td>\n",
       "    </tr>\n",
       "    <tr>\n",
       "      <th>2</th>\n",
       "      <td>#Stuck</td>\n",
       "      <td>NICOLAS RAPOLD</td>\n",
       "      <td>Road Rage as Aphrodisiac</td>\n",
       "      <td>2014-10-09</td>\n",
       "      <td>{'type': 'article', 'url': 'http://www.nytimes...</td>\n",
       "    </tr>\n",
       "    <tr>\n",
       "      <th>3</th>\n",
       "      <td>$1,000 a Touchdown</td>\n",
       "      <td>FRANK S. NUGENT</td>\n",
       "      <td>$1,000 a Touchdown</td>\n",
       "      <td>1939-10-05</td>\n",
       "      <td>{'type': 'article', 'url': 'http://www.nytimes...</td>\n",
       "    </tr>\n",
       "    <tr>\n",
       "      <th>4</th>\n",
       "      <td>$9.99</td>\n",
       "      <td>A. O. SCOTT</td>\n",
       "      <td>Figures Made of Clay in an Imaginary World</td>\n",
       "      <td>2009-06-18</td>\n",
       "      <td>{'type': 'article', 'url': 'http://www.nytimes...</td>\n",
       "    </tr>\n",
       "  </tbody>\n",
       "</table>\n",
       "</div>"
      ],
      "text/plain": [
       "        display_title             reviewer  \\\n",
       "0    #Female Pleasure  JEANNETTE CATSOULIS   \n",
       "1             #Horror  JEANNETTE CATSOULIS   \n",
       "2              #Stuck       NICOLAS RAPOLD   \n",
       "3  $1,000 a Touchdown      FRANK S. NUGENT   \n",
       "4               $9.99          A. O. SCOTT   \n",
       "\n",
       "                                            headline publication_date  \\\n",
       "0  ‘#Female Pleasure’ Review: Fighting the Patria...       2019-10-17   \n",
       "1  Review: ‘#Horror’ Finds the Fear in Cyberbully...       2015-11-19   \n",
       "2                           Road Rage as Aphrodisiac       2014-10-09   \n",
       "3                                 $1,000 a Touchdown       1939-10-05   \n",
       "4         Figures Made of Clay in an Imaginary World       2009-06-18   \n",
       "\n",
       "                                                link  \n",
       "0  {'type': 'article', 'url': 'http://www.nytimes...  \n",
       "1  {'type': 'article', 'url': 'http://www.nytimes...  \n",
       "2  {'type': 'article', 'url': 'http://www.nytimes...  \n",
       "3  {'type': 'article', 'url': 'http://www.nytimes...  \n",
       "4  {'type': 'article', 'url': 'http://www.nytimes...  "
      ]
     },
     "execution_count": 52,
     "metadata": {},
     "output_type": "execute_result"
    }
   ],
   "source": [
    "reviews=reviews.rename(columns={\"byline\": \"reviewer\"})\n",
    "reviews"
   ]
  },
  {
   "cell_type": "code",
   "execution_count": 53,
   "metadata": {},
   "outputs": [
    {
     "data": {
      "text/html": [
       "<div>\n",
       "<style scoped>\n",
       "    .dataframe tbody tr th:only-of-type {\n",
       "        vertical-align: middle;\n",
       "    }\n",
       "\n",
       "    .dataframe tbody tr th {\n",
       "        vertical-align: top;\n",
       "    }\n",
       "\n",
       "    .dataframe thead th {\n",
       "        text-align: right;\n",
       "    }\n",
       "</style>\n",
       "<table border=\"1\" class=\"dataframe\">\n",
       "  <thead>\n",
       "    <tr style=\"text-align: right;\">\n",
       "      <th></th>\n",
       "      <th>display_title</th>\n",
       "      <th>reviewer</th>\n",
       "      <th>headline</th>\n",
       "      <th>publication_date</th>\n",
       "      <th>link</th>\n",
       "    </tr>\n",
       "  </thead>\n",
       "  <tbody>\n",
       "    <tr>\n",
       "      <th>0</th>\n",
       "      <td>#Female Pleasure</td>\n",
       "      <td>Jeannette Catsoulis</td>\n",
       "      <td>‘#Female Pleasure’ Review: Fighting the Patria...</td>\n",
       "      <td>2019-10-17</td>\n",
       "      <td>{'type': 'article', 'url': 'http://www.nytimes...</td>\n",
       "    </tr>\n",
       "    <tr>\n",
       "      <th>1</th>\n",
       "      <td>#Horror</td>\n",
       "      <td>Jeannette Catsoulis</td>\n",
       "      <td>Review: ‘#Horror’ Finds the Fear in Cyberbully...</td>\n",
       "      <td>2015-11-19</td>\n",
       "      <td>{'type': 'article', 'url': 'http://www.nytimes...</td>\n",
       "    </tr>\n",
       "    <tr>\n",
       "      <th>2</th>\n",
       "      <td>#Stuck</td>\n",
       "      <td>Nicolas Rapold</td>\n",
       "      <td>Road Rage as Aphrodisiac</td>\n",
       "      <td>2014-10-09</td>\n",
       "      <td>{'type': 'article', 'url': 'http://www.nytimes...</td>\n",
       "    </tr>\n",
       "    <tr>\n",
       "      <th>3</th>\n",
       "      <td>$1,000 a Touchdown</td>\n",
       "      <td>Frank S. Nugent</td>\n",
       "      <td>$1,000 a Touchdown</td>\n",
       "      <td>1939-10-05</td>\n",
       "      <td>{'type': 'article', 'url': 'http://www.nytimes...</td>\n",
       "    </tr>\n",
       "    <tr>\n",
       "      <th>4</th>\n",
       "      <td>$9.99</td>\n",
       "      <td>A. O. Scott</td>\n",
       "      <td>Figures Made of Clay in an Imaginary World</td>\n",
       "      <td>2009-06-18</td>\n",
       "      <td>{'type': 'article', 'url': 'http://www.nytimes...</td>\n",
       "    </tr>\n",
       "  </tbody>\n",
       "</table>\n",
       "</div>"
      ],
      "text/plain": [
       "        display_title             reviewer  \\\n",
       "0    #Female Pleasure  Jeannette Catsoulis   \n",
       "1             #Horror  Jeannette Catsoulis   \n",
       "2              #Stuck       Nicolas Rapold   \n",
       "3  $1,000 a Touchdown      Frank S. Nugent   \n",
       "4               $9.99          A. O. Scott   \n",
       "\n",
       "                                            headline publication_date  \\\n",
       "0  ‘#Female Pleasure’ Review: Fighting the Patria...       2019-10-17   \n",
       "1  Review: ‘#Horror’ Finds the Fear in Cyberbully...       2015-11-19   \n",
       "2                           Road Rage as Aphrodisiac       2014-10-09   \n",
       "3                                 $1,000 a Touchdown       1939-10-05   \n",
       "4         Figures Made of Clay in an Imaginary World       2009-06-18   \n",
       "\n",
       "                                                link  \n",
       "0  {'type': 'article', 'url': 'http://www.nytimes...  \n",
       "1  {'type': 'article', 'url': 'http://www.nytimes...  \n",
       "2  {'type': 'article', 'url': 'http://www.nytimes...  \n",
       "3  {'type': 'article', 'url': 'http://www.nytimes...  \n",
       "4  {'type': 'article', 'url': 'http://www.nytimes...  "
      ]
     },
     "execution_count": 53,
     "metadata": {},
     "output_type": "execute_result"
    }
   ],
   "source": [
    "clean.capital_names(reviews,'reviewer')"
   ]
  },
  {
   "cell_type": "code",
   "execution_count": 54,
   "metadata": {},
   "outputs": [
    {
     "data": {
      "text/html": [
       "<div>\n",
       "<style scoped>\n",
       "    .dataframe tbody tr th:only-of-type {\n",
       "        vertical-align: middle;\n",
       "    }\n",
       "\n",
       "    .dataframe tbody tr th {\n",
       "        vertical-align: top;\n",
       "    }\n",
       "\n",
       "    .dataframe thead th {\n",
       "        text-align: right;\n",
       "    }\n",
       "</style>\n",
       "<table border=\"1\" class=\"dataframe\">\n",
       "  <thead>\n",
       "    <tr style=\"text-align: right;\">\n",
       "      <th></th>\n",
       "      <th>display_title</th>\n",
       "      <th>reviewer</th>\n",
       "      <th>headline</th>\n",
       "      <th>publication_date</th>\n",
       "      <th>link</th>\n",
       "    </tr>\n",
       "  </thead>\n",
       "  <tbody>\n",
       "    <tr>\n",
       "      <th>0</th>\n",
       "      <td>#Female Pleasure</td>\n",
       "      <td>Jeannette Catsoulis</td>\n",
       "      <td>‘#Female Pleasure’ Review: Fighting the Patria...</td>\n",
       "      <td>2019-10-17</td>\n",
       "      <td>{'type': 'article', 'url': 'http://www.nytimes...</td>\n",
       "    </tr>\n",
       "    <tr>\n",
       "      <th>1</th>\n",
       "      <td>#Horror</td>\n",
       "      <td>Jeannette Catsoulis</td>\n",
       "      <td>Review: ‘#Horror’ Finds the Fear in Cyberbully...</td>\n",
       "      <td>2015-11-19</td>\n",
       "      <td>{'type': 'article', 'url': 'http://www.nytimes...</td>\n",
       "    </tr>\n",
       "    <tr>\n",
       "      <th>2</th>\n",
       "      <td>#Stuck</td>\n",
       "      <td>Nicolas Rapold</td>\n",
       "      <td>Road Rage as Aphrodisiac</td>\n",
       "      <td>2014-10-09</td>\n",
       "      <td>{'type': 'article', 'url': 'http://www.nytimes...</td>\n",
       "    </tr>\n",
       "    <tr>\n",
       "      <th>3</th>\n",
       "      <td>$1,000 a Touchdown</td>\n",
       "      <td>Frank S. Nugent</td>\n",
       "      <td>$1,000 a Touchdown</td>\n",
       "      <td>1939-10-05</td>\n",
       "      <td>{'type': 'article', 'url': 'http://www.nytimes...</td>\n",
       "    </tr>\n",
       "    <tr>\n",
       "      <th>4</th>\n",
       "      <td>$9.99</td>\n",
       "      <td>A. O. Scott</td>\n",
       "      <td>Figures Made of Clay in an Imaginary World</td>\n",
       "      <td>2009-06-18</td>\n",
       "      <td>{'type': 'article', 'url': 'http://www.nytimes...</td>\n",
       "    </tr>\n",
       "  </tbody>\n",
       "</table>\n",
       "</div>"
      ],
      "text/plain": [
       "        display_title             reviewer  \\\n",
       "0    #Female Pleasure  Jeannette Catsoulis   \n",
       "1             #Horror  Jeannette Catsoulis   \n",
       "2              #Stuck       Nicolas Rapold   \n",
       "3  $1,000 a Touchdown      Frank S. Nugent   \n",
       "4               $9.99          A. O. Scott   \n",
       "\n",
       "                                            headline publication_date  \\\n",
       "0  ‘#Female Pleasure’ Review: Fighting the Patria...       2019-10-17   \n",
       "1  Review: ‘#Horror’ Finds the Fear in Cyberbully...       2015-11-19   \n",
       "2                           Road Rage as Aphrodisiac       2014-10-09   \n",
       "3                                 $1,000 a Touchdown       1939-10-05   \n",
       "4         Figures Made of Clay in an Imaginary World       2009-06-18   \n",
       "\n",
       "                                                link  \n",
       "0  {'type': 'article', 'url': 'http://www.nytimes...  \n",
       "1  {'type': 'article', 'url': 'http://www.nytimes...  \n",
       "2  {'type': 'article', 'url': 'http://www.nytimes...  \n",
       "3  {'type': 'article', 'url': 'http://www.nytimes...  \n",
       "4  {'type': 'article', 'url': 'http://www.nytimes...  "
      ]
     },
     "execution_count": 54,
     "metadata": {},
     "output_type": "execute_result"
    }
   ],
   "source": [
    "reviews"
   ]
  },
  {
   "cell_type": "code",
   "execution_count": 55,
   "metadata": {},
   "outputs": [
    {
     "ename": "AttributeError",
     "evalue": "'DataFrame' object has no attribute 'map'",
     "output_type": "error",
     "traceback": [
      "\u001b[0;31m---------------------------------------------------------------------------\u001b[0m",
      "\u001b[0;31mAttributeError\u001b[0m                            Traceback (most recent call last)",
      "\u001b[0;32m<ipython-input-55-ac60b00917f3>\u001b[0m in \u001b[0;36m<module>\u001b[0;34m\u001b[0m\n\u001b[1;32m      1\u001b[0m \u001b[0;31m#Revisar qué pasa!!\u001b[0m\u001b[0;34m\u001b[0m\u001b[0;34m\u001b[0m\u001b[0;34m\u001b[0m\u001b[0m\n\u001b[0;32m----> 2\u001b[0;31m \u001b[0mclean\u001b[0m\u001b[0;34m.\u001b[0m\u001b[0mspecial_characters\u001b[0m\u001b[0;34m(\u001b[0m\u001b[0mreviews\u001b[0m\u001b[0;34m,\u001b[0m\u001b[0;34m[\u001b[0m\u001b[0;34m'headline'\u001b[0m\u001b[0;34m,\u001b[0m\u001b[0;34m'display_title'\u001b[0m\u001b[0;34m]\u001b[0m\u001b[0;34m)\u001b[0m\u001b[0;34m\u001b[0m\u001b[0;34m\u001b[0m\u001b[0m\n\u001b[0m",
      "\u001b[0;32m~/IH_DAFT/Bootcamp/repos/apis-project/src/cleaning.py\u001b[0m in \u001b[0;36mspecial_characters\u001b[0;34m(df, *columns)\u001b[0m\n\u001b[1;32m     64\u001b[0m     \"\"\" \n\u001b[1;32m     65\u001b[0m     \u001b[0;32mfor\u001b[0m \u001b[0mcolumn\u001b[0m \u001b[0;32min\u001b[0m \u001b[0mcolumns\u001b[0m\u001b[0;34m:\u001b[0m\u001b[0;34m\u001b[0m\u001b[0;34m\u001b[0m\u001b[0m\n\u001b[0;32m---> 66\u001b[0;31m         \u001b[0mdf\u001b[0m\u001b[0;34m[\u001b[0m\u001b[0mcolumn\u001b[0m\u001b[0;34m]\u001b[0m\u001b[0;34m=\u001b[0m\u001b[0mdf\u001b[0m\u001b[0;34m[\u001b[0m\u001b[0mcolumn\u001b[0m\u001b[0;34m]\u001b[0m\u001b[0;34m.\u001b[0m\u001b[0mmap\u001b[0m\u001b[0;34m(\u001b[0m\u001b[0;32mlambda\u001b[0m \u001b[0mx\u001b[0m\u001b[0;34m:\u001b[0m \u001b[0;34m\"\"\u001b[0m\u001b[0;34m.\u001b[0m\u001b[0mjoin\u001b[0m\u001b[0;34m(\u001b[0m\u001b[0mx\u001b[0m\u001b[0;34m.\u001b[0m\u001b[0msplit\u001b[0m\u001b[0;34m(\u001b[0m\u001b[0;34m'#'\u001b[0m\u001b[0;34m)\u001b[0m\u001b[0;34m)\u001b[0m\u001b[0;34m)\u001b[0m\u001b[0;34m\u001b[0m\u001b[0;34m\u001b[0m\u001b[0m\n\u001b[0m\u001b[1;32m     67\u001b[0m \u001b[0;34m\u001b[0m\u001b[0m\n\u001b[1;32m     68\u001b[0m     \u001b[0;32mreturn\u001b[0m \u001b[0mdf\u001b[0m\u001b[0;34m\u001b[0m\u001b[0;34m\u001b[0m\u001b[0m\n",
      "\u001b[0;32m/usr/local/lib/python3.8/dist-packages/pandas/core/generic.py\u001b[0m in \u001b[0;36m__getattr__\u001b[0;34m(self, name)\u001b[0m\n\u001b[1;32m   5128\u001b[0m             \u001b[0;32mif\u001b[0m \u001b[0mself\u001b[0m\u001b[0;34m.\u001b[0m\u001b[0m_info_axis\u001b[0m\u001b[0;34m.\u001b[0m\u001b[0m_can_hold_identifiers_and_holds_name\u001b[0m\u001b[0;34m(\u001b[0m\u001b[0mname\u001b[0m\u001b[0;34m)\u001b[0m\u001b[0;34m:\u001b[0m\u001b[0;34m\u001b[0m\u001b[0;34m\u001b[0m\u001b[0m\n\u001b[1;32m   5129\u001b[0m                 \u001b[0;32mreturn\u001b[0m \u001b[0mself\u001b[0m\u001b[0;34m[\u001b[0m\u001b[0mname\u001b[0m\u001b[0;34m]\u001b[0m\u001b[0;34m\u001b[0m\u001b[0;34m\u001b[0m\u001b[0m\n\u001b[0;32m-> 5130\u001b[0;31m             \u001b[0;32mreturn\u001b[0m \u001b[0mobject\u001b[0m\u001b[0;34m.\u001b[0m\u001b[0m__getattribute__\u001b[0m\u001b[0;34m(\u001b[0m\u001b[0mself\u001b[0m\u001b[0;34m,\u001b[0m \u001b[0mname\u001b[0m\u001b[0;34m)\u001b[0m\u001b[0;34m\u001b[0m\u001b[0;34m\u001b[0m\u001b[0m\n\u001b[0m\u001b[1;32m   5131\u001b[0m \u001b[0;34m\u001b[0m\u001b[0m\n\u001b[1;32m   5132\u001b[0m     \u001b[0;32mdef\u001b[0m \u001b[0m__setattr__\u001b[0m\u001b[0;34m(\u001b[0m\u001b[0mself\u001b[0m\u001b[0;34m,\u001b[0m \u001b[0mname\u001b[0m\u001b[0;34m:\u001b[0m \u001b[0mstr\u001b[0m\u001b[0;34m,\u001b[0m \u001b[0mvalue\u001b[0m\u001b[0;34m)\u001b[0m \u001b[0;34m->\u001b[0m \u001b[0;32mNone\u001b[0m\u001b[0;34m:\u001b[0m\u001b[0;34m\u001b[0m\u001b[0;34m\u001b[0m\u001b[0m\n",
      "\u001b[0;31mAttributeError\u001b[0m: 'DataFrame' object has no attribute 'map'"
     ]
    }
   ],
   "source": [
    "#Revisar qué pasa!!\n",
    "clean.special_characters(reviews,['headline','display_title'])"
   ]
  },
  {
   "cell_type": "code",
   "execution_count": 56,
   "metadata": {},
   "outputs": [],
   "source": [
    "reviews['link']=reviews['link'].map(lambda x: x['url'])"
   ]
  },
  {
   "cell_type": "code",
   "execution_count": 57,
   "metadata": {},
   "outputs": [
    {
     "data": {
      "text/html": [
       "<div>\n",
       "<style scoped>\n",
       "    .dataframe tbody tr th:only-of-type {\n",
       "        vertical-align: middle;\n",
       "    }\n",
       "\n",
       "    .dataframe tbody tr th {\n",
       "        vertical-align: top;\n",
       "    }\n",
       "\n",
       "    .dataframe thead th {\n",
       "        text-align: right;\n",
       "    }\n",
       "</style>\n",
       "<table border=\"1\" class=\"dataframe\">\n",
       "  <thead>\n",
       "    <tr style=\"text-align: right;\">\n",
       "      <th></th>\n",
       "      <th>display_title</th>\n",
       "      <th>reviewer</th>\n",
       "      <th>headline</th>\n",
       "      <th>publication_date</th>\n",
       "      <th>link</th>\n",
       "    </tr>\n",
       "  </thead>\n",
       "  <tbody>\n",
       "    <tr>\n",
       "      <th>0</th>\n",
       "      <td>#Female Pleasure</td>\n",
       "      <td>Jeannette Catsoulis</td>\n",
       "      <td>‘#Female Pleasure’ Review: Fighting the Patria...</td>\n",
       "      <td>2019-10-17</td>\n",
       "      <td>http://www.nytimes.com/2019/10/17/movies/femal...</td>\n",
       "    </tr>\n",
       "    <tr>\n",
       "      <th>1</th>\n",
       "      <td>#Horror</td>\n",
       "      <td>Jeannette Catsoulis</td>\n",
       "      <td>Review: ‘#Horror’ Finds the Fear in Cyberbully...</td>\n",
       "      <td>2015-11-19</td>\n",
       "      <td>http://www.nytimes.com/2015/11/20/movies/revie...</td>\n",
       "    </tr>\n",
       "    <tr>\n",
       "      <th>2</th>\n",
       "      <td>#Stuck</td>\n",
       "      <td>Nicolas Rapold</td>\n",
       "      <td>Road Rage as Aphrodisiac</td>\n",
       "      <td>2014-10-09</td>\n",
       "      <td>http://www.nytimes.com/2014/10/10/movies/stuck...</td>\n",
       "    </tr>\n",
       "    <tr>\n",
       "      <th>3</th>\n",
       "      <td>$1,000 a Touchdown</td>\n",
       "      <td>Frank S. Nugent</td>\n",
       "      <td>$1,000 a Touchdown</td>\n",
       "      <td>1939-10-05</td>\n",
       "      <td>http://www.nytimes.com/1939/10/05/archives/the...</td>\n",
       "    </tr>\n",
       "    <tr>\n",
       "      <th>4</th>\n",
       "      <td>$9.99</td>\n",
       "      <td>A. O. Scott</td>\n",
       "      <td>Figures Made of Clay in an Imaginary World</td>\n",
       "      <td>2009-06-18</td>\n",
       "      <td>http://www.nytimes.com/2009/06/19/movies/19nin...</td>\n",
       "    </tr>\n",
       "  </tbody>\n",
       "</table>\n",
       "</div>"
      ],
      "text/plain": [
       "        display_title             reviewer  \\\n",
       "0    #Female Pleasure  Jeannette Catsoulis   \n",
       "1             #Horror  Jeannette Catsoulis   \n",
       "2              #Stuck       Nicolas Rapold   \n",
       "3  $1,000 a Touchdown      Frank S. Nugent   \n",
       "4               $9.99          A. O. Scott   \n",
       "\n",
       "                                            headline publication_date  \\\n",
       "0  ‘#Female Pleasure’ Review: Fighting the Patria...       2019-10-17   \n",
       "1  Review: ‘#Horror’ Finds the Fear in Cyberbully...       2015-11-19   \n",
       "2                           Road Rage as Aphrodisiac       2014-10-09   \n",
       "3                                 $1,000 a Touchdown       1939-10-05   \n",
       "4         Figures Made of Clay in an Imaginary World       2009-06-18   \n",
       "\n",
       "                                                link  \n",
       "0  http://www.nytimes.com/2019/10/17/movies/femal...  \n",
       "1  http://www.nytimes.com/2015/11/20/movies/revie...  \n",
       "2  http://www.nytimes.com/2014/10/10/movies/stuck...  \n",
       "3  http://www.nytimes.com/1939/10/05/archives/the...  \n",
       "4  http://www.nytimes.com/2009/06/19/movies/19nin...  "
      ]
     },
     "execution_count": 57,
     "metadata": {},
     "output_type": "execute_result"
    }
   ],
   "source": [
    "reviews.head()"
   ]
  },
  {
   "cell_type": "code",
   "execution_count": 59,
   "metadata": {},
   "outputs": [
    {
     "ename": "TypeError",
     "evalue": "expected string or bytes-like object",
     "output_type": "error",
     "traceback": [
      "\u001b[0;31m---------------------------------------------------------------------------\u001b[0m",
      "\u001b[0;31mTypeError\u001b[0m                                 Traceback (most recent call last)",
      "\u001b[0;32m<ipython-input-59-ef8c063a14fa>\u001b[0m in \u001b[0;36m<module>\u001b[0;34m\u001b[0m\n\u001b[0;32m----> 1\u001b[0;31m \u001b[0mmovies\u001b[0m\u001b[0;34m[\u001b[0m\u001b[0;34m'Title'\u001b[0m\u001b[0;34m]\u001b[0m\u001b[0;34m.\u001b[0m\u001b[0mmap\u001b[0m\u001b[0;34m(\u001b[0m\u001b[0;32mlambda\u001b[0m \u001b[0mx\u001b[0m\u001b[0;34m:\u001b[0m\u001b[0mre\u001b[0m\u001b[0;34m.\u001b[0m\u001b[0msearch\u001b[0m\u001b[0;34m(\u001b[0m\u001b[0mx\u001b[0m\u001b[0;34m,\u001b[0m\u001b[0mreviews\u001b[0m\u001b[0;34m.\u001b[0m\u001b[0mdisplay_title\u001b[0m\u001b[0;34m)\u001b[0m\u001b[0;34m)\u001b[0m\u001b[0;34m\u001b[0m\u001b[0;34m\u001b[0m\u001b[0m\n\u001b[0m",
      "\u001b[0;32m/usr/local/lib/python3.8/dist-packages/pandas/core/series.py\u001b[0m in \u001b[0;36mmap\u001b[0;34m(self, arg, na_action)\u001b[0m\n\u001b[1;32m   3968\u001b[0m         \u001b[0mdtype\u001b[0m\u001b[0;34m:\u001b[0m \u001b[0mobject\u001b[0m\u001b[0;34m\u001b[0m\u001b[0;34m\u001b[0m\u001b[0m\n\u001b[1;32m   3969\u001b[0m         \"\"\"\n\u001b[0;32m-> 3970\u001b[0;31m         \u001b[0mnew_values\u001b[0m \u001b[0;34m=\u001b[0m \u001b[0msuper\u001b[0m\u001b[0;34m(\u001b[0m\u001b[0;34m)\u001b[0m\u001b[0;34m.\u001b[0m\u001b[0m_map_values\u001b[0m\u001b[0;34m(\u001b[0m\u001b[0marg\u001b[0m\u001b[0;34m,\u001b[0m \u001b[0mna_action\u001b[0m\u001b[0;34m=\u001b[0m\u001b[0mna_action\u001b[0m\u001b[0;34m)\u001b[0m\u001b[0;34m\u001b[0m\u001b[0;34m\u001b[0m\u001b[0m\n\u001b[0m\u001b[1;32m   3971\u001b[0m         return self._constructor(new_values, index=self.index).__finalize__(\n\u001b[1;32m   3972\u001b[0m             \u001b[0mself\u001b[0m\u001b[0;34m,\u001b[0m \u001b[0mmethod\u001b[0m\u001b[0;34m=\u001b[0m\u001b[0;34m\"map\"\u001b[0m\u001b[0;34m\u001b[0m\u001b[0;34m\u001b[0m\u001b[0m\n",
      "\u001b[0;32m/usr/local/lib/python3.8/dist-packages/pandas/core/base.py\u001b[0m in \u001b[0;36m_map_values\u001b[0;34m(self, mapper, na_action)\u001b[0m\n\u001b[1;32m   1158\u001b[0m \u001b[0;34m\u001b[0m\u001b[0m\n\u001b[1;32m   1159\u001b[0m         \u001b[0;31m# mapper is a function\u001b[0m\u001b[0;34m\u001b[0m\u001b[0;34m\u001b[0m\u001b[0;34m\u001b[0m\u001b[0m\n\u001b[0;32m-> 1160\u001b[0;31m         \u001b[0mnew_values\u001b[0m \u001b[0;34m=\u001b[0m \u001b[0mmap_f\u001b[0m\u001b[0;34m(\u001b[0m\u001b[0mvalues\u001b[0m\u001b[0;34m,\u001b[0m \u001b[0mmapper\u001b[0m\u001b[0;34m)\u001b[0m\u001b[0;34m\u001b[0m\u001b[0;34m\u001b[0m\u001b[0m\n\u001b[0m\u001b[1;32m   1161\u001b[0m \u001b[0;34m\u001b[0m\u001b[0m\n\u001b[1;32m   1162\u001b[0m         \u001b[0;32mreturn\u001b[0m \u001b[0mnew_values\u001b[0m\u001b[0;34m\u001b[0m\u001b[0;34m\u001b[0m\u001b[0m\n",
      "\u001b[0;32mpandas/_libs/lib.pyx\u001b[0m in \u001b[0;36mpandas._libs.lib.map_infer\u001b[0;34m()\u001b[0m\n",
      "\u001b[0;32m<ipython-input-59-ef8c063a14fa>\u001b[0m in \u001b[0;36m<lambda>\u001b[0;34m(x)\u001b[0m\n\u001b[0;32m----> 1\u001b[0;31m \u001b[0mmovies\u001b[0m\u001b[0;34m[\u001b[0m\u001b[0;34m'Title'\u001b[0m\u001b[0;34m]\u001b[0m\u001b[0;34m.\u001b[0m\u001b[0mmap\u001b[0m\u001b[0;34m(\u001b[0m\u001b[0;32mlambda\u001b[0m \u001b[0mx\u001b[0m\u001b[0;34m:\u001b[0m\u001b[0mre\u001b[0m\u001b[0;34m.\u001b[0m\u001b[0msearch\u001b[0m\u001b[0;34m(\u001b[0m\u001b[0mx\u001b[0m\u001b[0;34m,\u001b[0m\u001b[0mreviews\u001b[0m\u001b[0;34m.\u001b[0m\u001b[0mdisplay_title\u001b[0m\u001b[0;34m)\u001b[0m\u001b[0;34m)\u001b[0m\u001b[0;34m\u001b[0m\u001b[0;34m\u001b[0m\u001b[0m\n\u001b[0m",
      "\u001b[0;32m/usr/lib/python3.8/re.py\u001b[0m in \u001b[0;36msearch\u001b[0;34m(pattern, string, flags)\u001b[0m\n\u001b[1;32m    197\u001b[0m     \"\"\"Scan through string looking for a match to the pattern, returning\n\u001b[1;32m    198\u001b[0m     a Match object, or None if no match was found.\"\"\"\n\u001b[0;32m--> 199\u001b[0;31m     \u001b[0;32mreturn\u001b[0m \u001b[0m_compile\u001b[0m\u001b[0;34m(\u001b[0m\u001b[0mpattern\u001b[0m\u001b[0;34m,\u001b[0m \u001b[0mflags\u001b[0m\u001b[0;34m)\u001b[0m\u001b[0;34m.\u001b[0m\u001b[0msearch\u001b[0m\u001b[0;34m(\u001b[0m\u001b[0mstring\u001b[0m\u001b[0;34m)\u001b[0m\u001b[0;34m\u001b[0m\u001b[0;34m\u001b[0m\u001b[0m\n\u001b[0m\u001b[1;32m    200\u001b[0m \u001b[0;34m\u001b[0m\u001b[0m\n\u001b[1;32m    201\u001b[0m \u001b[0;32mdef\u001b[0m \u001b[0msub\u001b[0m\u001b[0;34m(\u001b[0m\u001b[0mpattern\u001b[0m\u001b[0;34m,\u001b[0m \u001b[0mrepl\u001b[0m\u001b[0;34m,\u001b[0m \u001b[0mstring\u001b[0m\u001b[0;34m,\u001b[0m \u001b[0mcount\u001b[0m\u001b[0;34m=\u001b[0m\u001b[0;36m0\u001b[0m\u001b[0;34m,\u001b[0m \u001b[0mflags\u001b[0m\u001b[0;34m=\u001b[0m\u001b[0;36m0\u001b[0m\u001b[0;34m)\u001b[0m\u001b[0;34m:\u001b[0m\u001b[0;34m\u001b[0m\u001b[0;34m\u001b[0m\u001b[0m\n",
      "\u001b[0;31mTypeError\u001b[0m: expected string or bytes-like object"
     ]
    }
   ],
   "source": [
    "movies['Title'].map(lambda x:re.search(x,reviews.display_title))"
   ]
  },
  {
   "cell_type": "code",
   "execution_count": 67,
   "metadata": {},
   "outputs": [
    {
     "ename": "TypeError",
     "evalue": "unhashable type: 'list'",
     "output_type": "error",
     "traceback": [
      "\u001b[0;31m---------------------------------------------------------------------------\u001b[0m",
      "\u001b[0;31mTypeError\u001b[0m                                 Traceback (most recent call last)",
      "\u001b[0;32m<ipython-input-67-25395a5bbf95>\u001b[0m in \u001b[0;36m<module>\u001b[0;34m\u001b[0m\n\u001b[0;32m----> 1\u001b[0;31m \u001b[0mreviews\u001b[0m\u001b[0;34m[\u001b[0m\u001b[0;34m'display_title'\u001b[0m\u001b[0;34m]\u001b[0m\u001b[0;34m=\u001b[0m\u001b[0mreviews\u001b[0m\u001b[0;34m[\u001b[0m\u001b[0;34m'display_title'\u001b[0m\u001b[0;34m]\u001b[0m\u001b[0;34m.\u001b[0m\u001b[0mmap\u001b[0m\u001b[0;34m(\u001b[0m\u001b[0;32mlambda\u001b[0m \u001b[0mx\u001b[0m\u001b[0;34m:\u001b[0m \u001b[0mmovies\u001b[0m\u001b[0;34m[\u001b[0m\u001b[0;34m'Title'\u001b[0m\u001b[0;34m]\u001b[0m\u001b[0;34m.\u001b[0m\u001b[0mreplace\u001b[0m\u001b[0;34m(\u001b[0m\u001b[0mre\u001b[0m\u001b[0;34m.\u001b[0m\u001b[0msearch\u001b[0m\u001b[0;34m(\u001b[0m\u001b[0;34m[\u001b[0m\u001b[0my\u001b[0m \u001b[0;32mfor\u001b[0m \u001b[0my\u001b[0m \u001b[0;32min\u001b[0m \u001b[0mmovies\u001b[0m\u001b[0;34m.\u001b[0m\u001b[0mTitle\u001b[0m\u001b[0;34m]\u001b[0m\u001b[0;34m,\u001b[0m\u001b[0mx\u001b[0m\u001b[0;34m)\u001b[0m\u001b[0;34m,\u001b[0m\u001b[0mregex\u001b[0m\u001b[0;34m=\u001b[0m\u001b[0;32mTrue\u001b[0m\u001b[0;34m)\u001b[0m\u001b[0;34m)\u001b[0m\u001b[0;34m\u001b[0m\u001b[0;34m\u001b[0m\u001b[0m\n\u001b[0m",
      "\u001b[0;32m/usr/local/lib/python3.8/dist-packages/pandas/core/series.py\u001b[0m in \u001b[0;36mmap\u001b[0;34m(self, arg, na_action)\u001b[0m\n\u001b[1;32m   3968\u001b[0m         \u001b[0mdtype\u001b[0m\u001b[0;34m:\u001b[0m \u001b[0mobject\u001b[0m\u001b[0;34m\u001b[0m\u001b[0;34m\u001b[0m\u001b[0m\n\u001b[1;32m   3969\u001b[0m         \"\"\"\n\u001b[0;32m-> 3970\u001b[0;31m         \u001b[0mnew_values\u001b[0m \u001b[0;34m=\u001b[0m \u001b[0msuper\u001b[0m\u001b[0;34m(\u001b[0m\u001b[0;34m)\u001b[0m\u001b[0;34m.\u001b[0m\u001b[0m_map_values\u001b[0m\u001b[0;34m(\u001b[0m\u001b[0marg\u001b[0m\u001b[0;34m,\u001b[0m \u001b[0mna_action\u001b[0m\u001b[0;34m=\u001b[0m\u001b[0mna_action\u001b[0m\u001b[0;34m)\u001b[0m\u001b[0;34m\u001b[0m\u001b[0;34m\u001b[0m\u001b[0m\n\u001b[0m\u001b[1;32m   3971\u001b[0m         return self._constructor(new_values, index=self.index).__finalize__(\n\u001b[1;32m   3972\u001b[0m             \u001b[0mself\u001b[0m\u001b[0;34m,\u001b[0m \u001b[0mmethod\u001b[0m\u001b[0;34m=\u001b[0m\u001b[0;34m\"map\"\u001b[0m\u001b[0;34m\u001b[0m\u001b[0;34m\u001b[0m\u001b[0m\n",
      "\u001b[0;32m/usr/local/lib/python3.8/dist-packages/pandas/core/base.py\u001b[0m in \u001b[0;36m_map_values\u001b[0;34m(self, mapper, na_action)\u001b[0m\n\u001b[1;32m   1158\u001b[0m \u001b[0;34m\u001b[0m\u001b[0m\n\u001b[1;32m   1159\u001b[0m         \u001b[0;31m# mapper is a function\u001b[0m\u001b[0;34m\u001b[0m\u001b[0;34m\u001b[0m\u001b[0;34m\u001b[0m\u001b[0m\n\u001b[0;32m-> 1160\u001b[0;31m         \u001b[0mnew_values\u001b[0m \u001b[0;34m=\u001b[0m \u001b[0mmap_f\u001b[0m\u001b[0;34m(\u001b[0m\u001b[0mvalues\u001b[0m\u001b[0;34m,\u001b[0m \u001b[0mmapper\u001b[0m\u001b[0;34m)\u001b[0m\u001b[0;34m\u001b[0m\u001b[0;34m\u001b[0m\u001b[0m\n\u001b[0m\u001b[1;32m   1161\u001b[0m \u001b[0;34m\u001b[0m\u001b[0m\n\u001b[1;32m   1162\u001b[0m         \u001b[0;32mreturn\u001b[0m \u001b[0mnew_values\u001b[0m\u001b[0;34m\u001b[0m\u001b[0;34m\u001b[0m\u001b[0m\n",
      "\u001b[0;32mpandas/_libs/lib.pyx\u001b[0m in \u001b[0;36mpandas._libs.lib.map_infer\u001b[0;34m()\u001b[0m\n",
      "\u001b[0;32m<ipython-input-67-25395a5bbf95>\u001b[0m in \u001b[0;36m<lambda>\u001b[0;34m(x)\u001b[0m\n\u001b[0;32m----> 1\u001b[0;31m \u001b[0mreviews\u001b[0m\u001b[0;34m[\u001b[0m\u001b[0;34m'display_title'\u001b[0m\u001b[0;34m]\u001b[0m\u001b[0;34m=\u001b[0m\u001b[0mreviews\u001b[0m\u001b[0;34m[\u001b[0m\u001b[0;34m'display_title'\u001b[0m\u001b[0;34m]\u001b[0m\u001b[0;34m.\u001b[0m\u001b[0mmap\u001b[0m\u001b[0;34m(\u001b[0m\u001b[0;32mlambda\u001b[0m \u001b[0mx\u001b[0m\u001b[0;34m:\u001b[0m \u001b[0mmovies\u001b[0m\u001b[0;34m[\u001b[0m\u001b[0;34m'Title'\u001b[0m\u001b[0;34m]\u001b[0m\u001b[0;34m.\u001b[0m\u001b[0mreplace\u001b[0m\u001b[0;34m(\u001b[0m\u001b[0mre\u001b[0m\u001b[0;34m.\u001b[0m\u001b[0msearch\u001b[0m\u001b[0;34m(\u001b[0m\u001b[0;34m[\u001b[0m\u001b[0my\u001b[0m \u001b[0;32mfor\u001b[0m \u001b[0my\u001b[0m \u001b[0;32min\u001b[0m \u001b[0mmovies\u001b[0m\u001b[0;34m.\u001b[0m\u001b[0mTitle\u001b[0m\u001b[0;34m]\u001b[0m\u001b[0;34m,\u001b[0m\u001b[0mx\u001b[0m\u001b[0;34m)\u001b[0m\u001b[0;34m,\u001b[0m\u001b[0mregex\u001b[0m\u001b[0;34m=\u001b[0m\u001b[0;32mTrue\u001b[0m\u001b[0;34m)\u001b[0m\u001b[0;34m)\u001b[0m\u001b[0;34m\u001b[0m\u001b[0;34m\u001b[0m\u001b[0m\n\u001b[0m",
      "\u001b[0;32m/usr/lib/python3.8/re.py\u001b[0m in \u001b[0;36msearch\u001b[0;34m(pattern, string, flags)\u001b[0m\n\u001b[1;32m    197\u001b[0m     \"\"\"Scan through string looking for a match to the pattern, returning\n\u001b[1;32m    198\u001b[0m     a Match object, or None if no match was found.\"\"\"\n\u001b[0;32m--> 199\u001b[0;31m     \u001b[0;32mreturn\u001b[0m \u001b[0m_compile\u001b[0m\u001b[0;34m(\u001b[0m\u001b[0mpattern\u001b[0m\u001b[0;34m,\u001b[0m \u001b[0mflags\u001b[0m\u001b[0;34m)\u001b[0m\u001b[0;34m.\u001b[0m\u001b[0msearch\u001b[0m\u001b[0;34m(\u001b[0m\u001b[0mstring\u001b[0m\u001b[0;34m)\u001b[0m\u001b[0;34m\u001b[0m\u001b[0;34m\u001b[0m\u001b[0m\n\u001b[0m\u001b[1;32m    200\u001b[0m \u001b[0;34m\u001b[0m\u001b[0m\n\u001b[1;32m    201\u001b[0m \u001b[0;32mdef\u001b[0m \u001b[0msub\u001b[0m\u001b[0;34m(\u001b[0m\u001b[0mpattern\u001b[0m\u001b[0;34m,\u001b[0m \u001b[0mrepl\u001b[0m\u001b[0;34m,\u001b[0m \u001b[0mstring\u001b[0m\u001b[0;34m,\u001b[0m \u001b[0mcount\u001b[0m\u001b[0;34m=\u001b[0m\u001b[0;36m0\u001b[0m\u001b[0;34m,\u001b[0m \u001b[0mflags\u001b[0m\u001b[0;34m=\u001b[0m\u001b[0;36m0\u001b[0m\u001b[0;34m)\u001b[0m\u001b[0;34m:\u001b[0m\u001b[0;34m\u001b[0m\u001b[0;34m\u001b[0m\u001b[0m\n",
      "\u001b[0;32m/usr/lib/python3.8/re.py\u001b[0m in \u001b[0;36m_compile\u001b[0;34m(pattern, flags)\u001b[0m\n\u001b[1;32m    290\u001b[0m         \u001b[0mflags\u001b[0m \u001b[0;34m=\u001b[0m \u001b[0mflags\u001b[0m\u001b[0;34m.\u001b[0m\u001b[0mvalue\u001b[0m\u001b[0;34m\u001b[0m\u001b[0;34m\u001b[0m\u001b[0m\n\u001b[1;32m    291\u001b[0m     \u001b[0;32mtry\u001b[0m\u001b[0;34m:\u001b[0m\u001b[0;34m\u001b[0m\u001b[0;34m\u001b[0m\u001b[0m\n\u001b[0;32m--> 292\u001b[0;31m         \u001b[0;32mreturn\u001b[0m \u001b[0m_cache\u001b[0m\u001b[0;34m[\u001b[0m\u001b[0mtype\u001b[0m\u001b[0;34m(\u001b[0m\u001b[0mpattern\u001b[0m\u001b[0;34m)\u001b[0m\u001b[0;34m,\u001b[0m \u001b[0mpattern\u001b[0m\u001b[0;34m,\u001b[0m \u001b[0mflags\u001b[0m\u001b[0;34m]\u001b[0m\u001b[0;34m\u001b[0m\u001b[0;34m\u001b[0m\u001b[0m\n\u001b[0m\u001b[1;32m    293\u001b[0m     \u001b[0;32mexcept\u001b[0m \u001b[0mKeyError\u001b[0m\u001b[0;34m:\u001b[0m\u001b[0;34m\u001b[0m\u001b[0;34m\u001b[0m\u001b[0m\n\u001b[1;32m    294\u001b[0m         \u001b[0;32mpass\u001b[0m\u001b[0;34m\u001b[0m\u001b[0;34m\u001b[0m\u001b[0m\n",
      "\u001b[0;31mTypeError\u001b[0m: unhashable type: 'list'"
     ]
    }
   ],
   "source": [
    "reviews['display_title']=reviews['display_title'].map(lambda x: movies['Title'].replace(re.search(y for y in movies.Title,x),regex=True))"
   ]
  },
  {
   "cell_type": "code",
   "execution_count": 80,
   "metadata": {},
   "outputs": [
    {
     "ename": "TypeError",
     "evalue": "expected string or bytes-like object",
     "output_type": "error",
     "traceback": [
      "\u001b[0;31m---------------------------------------------------------------------------\u001b[0m",
      "\u001b[0;31mTypeError\u001b[0m                                 Traceback (most recent call last)",
      "\u001b[0;32m<ipython-input-80-3bced5096f90>\u001b[0m in \u001b[0;36m<module>\u001b[0;34m\u001b[0m\n\u001b[0;32m----> 1\u001b[0;31m \u001b[0mre\u001b[0m\u001b[0;34m.\u001b[0m\u001b[0mfindall\u001b[0m\u001b[0;34m(\u001b[0m\u001b[0mreviews\u001b[0m\u001b[0;34m[\u001b[0m\u001b[0;34m'display_title'\u001b[0m\u001b[0;34m]\u001b[0m\u001b[0;34m[\u001b[0m\u001b[0;36m0\u001b[0m\u001b[0;34m]\u001b[0m\u001b[0;34m,\u001b[0m\u001b[0mlist\u001b[0m\u001b[0;34m(\u001b[0m\u001b[0mmovies\u001b[0m\u001b[0;34m.\u001b[0m\u001b[0mTitle\u001b[0m\u001b[0;34m)\u001b[0m\u001b[0;34m)\u001b[0m\u001b[0;34m\u001b[0m\u001b[0;34m\u001b[0m\u001b[0m\n\u001b[0m",
      "\u001b[0;32m/usr/lib/python3.8/re.py\u001b[0m in \u001b[0;36mfindall\u001b[0;34m(pattern, string, flags)\u001b[0m\n\u001b[1;32m    237\u001b[0m \u001b[0;34m\u001b[0m\u001b[0m\n\u001b[1;32m    238\u001b[0m     Empty matches are included in the result.\"\"\"\n\u001b[0;32m--> 239\u001b[0;31m     \u001b[0;32mreturn\u001b[0m \u001b[0m_compile\u001b[0m\u001b[0;34m(\u001b[0m\u001b[0mpattern\u001b[0m\u001b[0;34m,\u001b[0m \u001b[0mflags\u001b[0m\u001b[0;34m)\u001b[0m\u001b[0;34m.\u001b[0m\u001b[0mfindall\u001b[0m\u001b[0;34m(\u001b[0m\u001b[0mstring\u001b[0m\u001b[0;34m)\u001b[0m\u001b[0;34m\u001b[0m\u001b[0;34m\u001b[0m\u001b[0m\n\u001b[0m\u001b[1;32m    240\u001b[0m \u001b[0;34m\u001b[0m\u001b[0m\n\u001b[1;32m    241\u001b[0m \u001b[0;32mdef\u001b[0m \u001b[0mfinditer\u001b[0m\u001b[0;34m(\u001b[0m\u001b[0mpattern\u001b[0m\u001b[0;34m,\u001b[0m \u001b[0mstring\u001b[0m\u001b[0;34m,\u001b[0m \u001b[0mflags\u001b[0m\u001b[0;34m=\u001b[0m\u001b[0;36m0\u001b[0m\u001b[0;34m)\u001b[0m\u001b[0;34m:\u001b[0m\u001b[0;34m\u001b[0m\u001b[0;34m\u001b[0m\u001b[0m\n",
      "\u001b[0;31mTypeError\u001b[0m: expected string or bytes-like object"
     ]
    }
   ],
   "source": [
    "re.findall(reviews['display_title'][0],list(movies.Title))"
   ]
  },
  {
   "cell_type": "code",
   "execution_count": 82,
   "metadata": {},
   "outputs": [
    {
     "ename": "TypeError",
     "evalue": "'DataFrame' object is not callable",
     "output_type": "error",
     "traceback": [
      "\u001b[0;31m---------------------------------------------------------------------------\u001b[0m",
      "\u001b[0;31mTypeError\u001b[0m                                 Traceback (most recent call last)",
      "\u001b[0;32m<ipython-input-82-0248e62f7526>\u001b[0m in \u001b[0;36m<module>\u001b[0;34m\u001b[0m\n\u001b[0;32m----> 1\u001b[0;31m \u001b[0mreviews\u001b[0m\u001b[0;34m(\u001b[0m\u001b[0;34m'display_title'\u001b[0m\u001b[0;34m)\u001b[0m\u001b[0;34m.\u001b[0m\u001b[0mmap\u001b[0m\u001b[0;34m(\u001b[0m\u001b[0;32mlambda\u001b[0m \u001b[0mx\u001b[0m\u001b[0;34m:\u001b[0m \u001b[0mre\u001b[0m\u001b[0;34m.\u001b[0m\u001b[0msearch\u001b[0m\u001b[0;34m(\u001b[0m\u001b[0mx\u001b[0m\u001b[0;34m,\u001b[0m\u001b[0mlist\u001b[0m\u001b[0;34m(\u001b[0m\u001b[0mmovies\u001b[0m\u001b[0;34m.\u001b[0m\u001b[0mTitle\u001b[0m\u001b[0;34m)\u001b[0m\u001b[0;34m)\u001b[0m\u001b[0;34m)\u001b[0m\u001b[0;34m\u001b[0m\u001b[0;34m\u001b[0m\u001b[0m\n\u001b[0m",
      "\u001b[0;31mTypeError\u001b[0m: 'DataFrame' object is not callable"
     ]
    }
   ],
   "source": [
    "reviews('display_title').map(lambda x: re.search(x,list(movies.Title)))"
   ]
  },
  {
   "cell_type": "code",
   "execution_count": null,
   "metadata": {},
   "outputs": [],
   "source": [
    "mylist = [\"dog\", \"cat\", \"wildcat\", \"thundercat\", \"cow\", \"hooo\"]\n",
    "r = re.compile(\".*cat\")\n",
    "newlist = list(filter(r.match, list(movies.Title))) # Read Note\n",
    "print(newlist)"
   ]
  },
  {
   "cell_type": "code",
   "execution_count": 92,
   "metadata": {},
   "outputs": [
    {
     "data": {
      "text/plain": [
       "['#Female Pleasure', '#Horror', '#Stuck', '$1,000 a Touchdown', '$9.99']"
      ]
     },
     "execution_count": 92,
     "metadata": {},
     "output_type": "execute_result"
    }
   ],
   "source": [
    "list(reviews.display_title)"
   ]
  },
  {
   "cell_type": "code",
   "execution_count": 96,
   "metadata": {},
   "outputs": [
    {
     "ename": "ValueError",
     "evalue": "Length of values (0) does not match length of index (5)",
     "output_type": "error",
     "traceback": [
      "\u001b[0;31m---------------------------------------------------------------------------\u001b[0m",
      "\u001b[0;31mValueError\u001b[0m                                Traceback (most recent call last)",
      "\u001b[0;32m<ipython-input-96-34d8075fb123>\u001b[0m in \u001b[0;36m<module>\u001b[0;34m\u001b[0m\n\u001b[0;32m----> 1\u001b[0;31m \u001b[0mreviews\u001b[0m\u001b[0;34m[\u001b[0m\u001b[0;34m'match'\u001b[0m\u001b[0;34m]\u001b[0m\u001b[0;34m=\u001b[0m\u001b[0;34m[\u001b[0m\u001b[0;34m]\u001b[0m\u001b[0;34m\u001b[0m\u001b[0;34m\u001b[0m\u001b[0m\n\u001b[0m\u001b[1;32m      2\u001b[0m \u001b[0;32mfor\u001b[0m \u001b[0mreview\u001b[0m \u001b[0;32min\u001b[0m \u001b[0mlist\u001b[0m\u001b[0;34m(\u001b[0m\u001b[0mreviews\u001b[0m\u001b[0;34m.\u001b[0m\u001b[0mdisplay_title\u001b[0m\u001b[0;34m)\u001b[0m\u001b[0;34m:\u001b[0m\u001b[0;34m\u001b[0m\u001b[0;34m\u001b[0m\u001b[0m\n\u001b[1;32m      3\u001b[0m     \u001b[0;32mfor\u001b[0m \u001b[0mmovie\u001b[0m \u001b[0;32min\u001b[0m \u001b[0mlist\u001b[0m\u001b[0;34m(\u001b[0m\u001b[0mmovies\u001b[0m\u001b[0;34m.\u001b[0m\u001b[0mTitle\u001b[0m\u001b[0;34m)\u001b[0m\u001b[0;34m:\u001b[0m\u001b[0;34m\u001b[0m\u001b[0;34m\u001b[0m\u001b[0m\n\u001b[1;32m      4\u001b[0m         \u001b[0mres\u001b[0m \u001b[0;34m=\u001b[0m \u001b[0mre\u001b[0m\u001b[0;34m.\u001b[0m\u001b[0mfindall\u001b[0m\u001b[0;34m(\u001b[0m\u001b[0mreview\u001b[0m\u001b[0;34m,\u001b[0m\u001b[0mmovie\u001b[0m\u001b[0;34m)\u001b[0m\u001b[0;34m\u001b[0m\u001b[0;34m\u001b[0m\u001b[0m\n\u001b[1;32m      5\u001b[0m         \u001b[0;32mif\u001b[0m \u001b[0mres\u001b[0m\u001b[0;34m:\u001b[0m\u001b[0;34m\u001b[0m\u001b[0;34m\u001b[0m\u001b[0m\n",
      "\u001b[0;32m/usr/local/lib/python3.8/dist-packages/pandas/core/frame.py\u001b[0m in \u001b[0;36m__setitem__\u001b[0;34m(self, key, value)\u001b[0m\n\u001b[1;32m   3035\u001b[0m         \u001b[0;32melse\u001b[0m\u001b[0;34m:\u001b[0m\u001b[0;34m\u001b[0m\u001b[0;34m\u001b[0m\u001b[0m\n\u001b[1;32m   3036\u001b[0m             \u001b[0;31m# set column\u001b[0m\u001b[0;34m\u001b[0m\u001b[0;34m\u001b[0m\u001b[0;34m\u001b[0m\u001b[0m\n\u001b[0;32m-> 3037\u001b[0;31m             \u001b[0mself\u001b[0m\u001b[0;34m.\u001b[0m\u001b[0m_set_item\u001b[0m\u001b[0;34m(\u001b[0m\u001b[0mkey\u001b[0m\u001b[0;34m,\u001b[0m \u001b[0mvalue\u001b[0m\u001b[0;34m)\u001b[0m\u001b[0;34m\u001b[0m\u001b[0;34m\u001b[0m\u001b[0m\n\u001b[0m\u001b[1;32m   3038\u001b[0m \u001b[0;34m\u001b[0m\u001b[0m\n\u001b[1;32m   3039\u001b[0m     \u001b[0;32mdef\u001b[0m \u001b[0m_setitem_slice\u001b[0m\u001b[0;34m(\u001b[0m\u001b[0mself\u001b[0m\u001b[0;34m,\u001b[0m \u001b[0mkey\u001b[0m\u001b[0;34m:\u001b[0m \u001b[0mslice\u001b[0m\u001b[0;34m,\u001b[0m \u001b[0mvalue\u001b[0m\u001b[0;34m)\u001b[0m\u001b[0;34m:\u001b[0m\u001b[0;34m\u001b[0m\u001b[0;34m\u001b[0m\u001b[0m\n",
      "\u001b[0;32m/usr/local/lib/python3.8/dist-packages/pandas/core/frame.py\u001b[0m in \u001b[0;36m_set_item\u001b[0;34m(self, key, value)\u001b[0m\n\u001b[1;32m   3111\u001b[0m         \"\"\"\n\u001b[1;32m   3112\u001b[0m         \u001b[0mself\u001b[0m\u001b[0;34m.\u001b[0m\u001b[0m_ensure_valid_index\u001b[0m\u001b[0;34m(\u001b[0m\u001b[0mvalue\u001b[0m\u001b[0;34m)\u001b[0m\u001b[0;34m\u001b[0m\u001b[0;34m\u001b[0m\u001b[0m\n\u001b[0;32m-> 3113\u001b[0;31m         \u001b[0mvalue\u001b[0m \u001b[0;34m=\u001b[0m \u001b[0mself\u001b[0m\u001b[0;34m.\u001b[0m\u001b[0m_sanitize_column\u001b[0m\u001b[0;34m(\u001b[0m\u001b[0mkey\u001b[0m\u001b[0;34m,\u001b[0m \u001b[0mvalue\u001b[0m\u001b[0;34m)\u001b[0m\u001b[0;34m\u001b[0m\u001b[0;34m\u001b[0m\u001b[0m\n\u001b[0m\u001b[1;32m   3114\u001b[0m         \u001b[0mNDFrame\u001b[0m\u001b[0;34m.\u001b[0m\u001b[0m_set_item\u001b[0m\u001b[0;34m(\u001b[0m\u001b[0mself\u001b[0m\u001b[0;34m,\u001b[0m \u001b[0mkey\u001b[0m\u001b[0;34m,\u001b[0m \u001b[0mvalue\u001b[0m\u001b[0;34m)\u001b[0m\u001b[0;34m\u001b[0m\u001b[0;34m\u001b[0m\u001b[0m\n\u001b[1;32m   3115\u001b[0m \u001b[0;34m\u001b[0m\u001b[0m\n",
      "\u001b[0;32m/usr/local/lib/python3.8/dist-packages/pandas/core/frame.py\u001b[0m in \u001b[0;36m_sanitize_column\u001b[0;34m(self, key, value, broadcast)\u001b[0m\n\u001b[1;32m   3756\u001b[0m \u001b[0;34m\u001b[0m\u001b[0m\n\u001b[1;32m   3757\u001b[0m             \u001b[0;31m# turn me into an ndarray\u001b[0m\u001b[0;34m\u001b[0m\u001b[0;34m\u001b[0m\u001b[0;34m\u001b[0m\u001b[0m\n\u001b[0;32m-> 3758\u001b[0;31m             \u001b[0mvalue\u001b[0m \u001b[0;34m=\u001b[0m \u001b[0msanitize_index\u001b[0m\u001b[0;34m(\u001b[0m\u001b[0mvalue\u001b[0m\u001b[0;34m,\u001b[0m \u001b[0mself\u001b[0m\u001b[0;34m.\u001b[0m\u001b[0mindex\u001b[0m\u001b[0;34m)\u001b[0m\u001b[0;34m\u001b[0m\u001b[0;34m\u001b[0m\u001b[0m\n\u001b[0m\u001b[1;32m   3759\u001b[0m             \u001b[0;32mif\u001b[0m \u001b[0;32mnot\u001b[0m \u001b[0misinstance\u001b[0m\u001b[0;34m(\u001b[0m\u001b[0mvalue\u001b[0m\u001b[0;34m,\u001b[0m \u001b[0;34m(\u001b[0m\u001b[0mnp\u001b[0m\u001b[0;34m.\u001b[0m\u001b[0mndarray\u001b[0m\u001b[0;34m,\u001b[0m \u001b[0mIndex\u001b[0m\u001b[0;34m)\u001b[0m\u001b[0;34m)\u001b[0m\u001b[0;34m:\u001b[0m\u001b[0;34m\u001b[0m\u001b[0;34m\u001b[0m\u001b[0m\n\u001b[1;32m   3760\u001b[0m                 \u001b[0;32mif\u001b[0m \u001b[0misinstance\u001b[0m\u001b[0;34m(\u001b[0m\u001b[0mvalue\u001b[0m\u001b[0;34m,\u001b[0m \u001b[0mlist\u001b[0m\u001b[0;34m)\u001b[0m \u001b[0;32mand\u001b[0m \u001b[0mlen\u001b[0m\u001b[0;34m(\u001b[0m\u001b[0mvalue\u001b[0m\u001b[0;34m)\u001b[0m \u001b[0;34m>\u001b[0m \u001b[0;36m0\u001b[0m\u001b[0;34m:\u001b[0m\u001b[0;34m\u001b[0m\u001b[0;34m\u001b[0m\u001b[0m\n",
      "\u001b[0;32m/usr/local/lib/python3.8/dist-packages/pandas/core/internals/construction.py\u001b[0m in \u001b[0;36msanitize_index\u001b[0;34m(data, index)\u001b[0m\n\u001b[1;32m    745\u001b[0m     \"\"\"\n\u001b[1;32m    746\u001b[0m     \u001b[0;32mif\u001b[0m \u001b[0mlen\u001b[0m\u001b[0;34m(\u001b[0m\u001b[0mdata\u001b[0m\u001b[0;34m)\u001b[0m \u001b[0;34m!=\u001b[0m \u001b[0mlen\u001b[0m\u001b[0;34m(\u001b[0m\u001b[0mindex\u001b[0m\u001b[0;34m)\u001b[0m\u001b[0;34m:\u001b[0m\u001b[0;34m\u001b[0m\u001b[0;34m\u001b[0m\u001b[0m\n\u001b[0;32m--> 747\u001b[0;31m         raise ValueError(\n\u001b[0m\u001b[1;32m    748\u001b[0m             \u001b[0;34m\"Length of values \"\u001b[0m\u001b[0;34m\u001b[0m\u001b[0;34m\u001b[0m\u001b[0m\n\u001b[1;32m    749\u001b[0m             \u001b[0;34mf\"({len(data)}) \"\u001b[0m\u001b[0;34m\u001b[0m\u001b[0;34m\u001b[0m\u001b[0m\n",
      "\u001b[0;31mValueError\u001b[0m: Length of values (0) does not match length of index (5)"
     ]
    }
   ],
   "source": [
    "reviews['match']=[]\n",
    "for review in list(reviews.display_title):\n",
    "    for movie in list(movies.Title):\n",
    "        res = re.findall(review,movie)\n",
    "        if res:\n",
    "            reviews['match'].append(res[0])\n",
    "        else:\n",
    "            reviews['match'].append('')\n",
    "reviews['match']"
   ]
  },
  {
   "cell_type": "code",
   "execution_count": 90,
   "metadata": {},
   "outputs": [
    {
     "data": {
      "text/plain": [
       "'Inception'"
      ]
     },
     "execution_count": 90,
     "metadata": {},
     "output_type": "execute_result"
    }
   ],
   "source": [
    "list(movies.Title)[0]"
   ]
  },
  {
   "cell_type": "code",
   "execution_count": 41,
   "metadata": {},
   "outputs": [
    {
     "data": {
      "text/plain": [
       "0    0                             Inception\n",
       "1     ...\n",
       "1    0                             Inception\n",
       "1     ...\n",
       "2    0                             Inception\n",
       "1     ...\n",
       "3    0                             Inception\n",
       "1     ...\n",
       "4    0                             Inception\n",
       "1     ...\n",
       "Name: display_title, dtype: object"
      ]
     },
     "execution_count": 41,
     "metadata": {},
     "output_type": "execute_result"
    }
   ],
   "source": [
    "reviews['display_title']"
   ]
  },
  {
   "cell_type": "code",
   "execution_count": 43,
   "metadata": {},
   "outputs": [
    {
     "data": {
      "text/plain": [
       "0    0                             Inception\n",
       "1     ...\n",
       "1    0                             Inception\n",
       "1     ...\n",
       "2    0                             Inception\n",
       "1     ...\n",
       "3    0                             Inception\n",
       "1     ...\n",
       "4    0                             Inception\n",
       "1     ...\n",
       "Name: display_title, dtype: object"
      ]
     },
     "execution_count": 43,
     "metadata": {},
     "output_type": "execute_result"
    }
   ],
   "source": [
    "reviews.display_title.str.replace()"
   ]
  },
  {
   "cell_type": "code",
   "execution_count": 30,
   "metadata": {},
   "outputs": [
    {
     "ename": "TypeError",
     "evalue": "object of type 'NoneType' has no len()",
     "output_type": "error",
     "traceback": [
      "\u001b[0;31m---------------------------------------------------------------------------\u001b[0m",
      "\u001b[0;31mTypeError\u001b[0m                                 Traceback (most recent call last)",
      "\u001b[0;32m<ipython-input-30-fa2a60b76589>\u001b[0m in \u001b[0;36m<module>\u001b[0;34m\u001b[0m\n\u001b[0;32m----> 1\u001b[0;31m \u001b[0mmovies\u001b[0m\u001b[0;34m.\u001b[0m\u001b[0mmerge\u001b[0m\u001b[0;34m(\u001b[0m\u001b[0mreviews\u001b[0m\u001b[0;34m,\u001b[0m \u001b[0mhow\u001b[0m\u001b[0;34m=\u001b[0m\u001b[0;34m'left'\u001b[0m\u001b[0;34m,\u001b[0m \u001b[0mleft_on\u001b[0m\u001b[0;34m=\u001b[0m\u001b[0;34m'Title'\u001b[0m\u001b[0;34m,\u001b[0m \u001b[0mcopy\u001b[0m\u001b[0;34m=\u001b[0m\u001b[0;32mTrue\u001b[0m\u001b[0;34m,\u001b[0m \u001b[0mindicator\u001b[0m\u001b[0;34m=\u001b[0m\u001b[0;32mTrue\u001b[0m\u001b[0;34m)\u001b[0m\u001b[0;34m\u001b[0m\u001b[0;34m\u001b[0m\u001b[0m\n\u001b[0m",
      "\u001b[0;32m/usr/local/lib/python3.8/dist-packages/pandas/core/frame.py\u001b[0m in \u001b[0;36mmerge\u001b[0;34m(self, right, how, on, left_on, right_on, left_index, right_index, sort, suffixes, copy, indicator, validate)\u001b[0m\n\u001b[1;32m   7937\u001b[0m         \u001b[0;32mfrom\u001b[0m \u001b[0mpandas\u001b[0m\u001b[0;34m.\u001b[0m\u001b[0mcore\u001b[0m\u001b[0;34m.\u001b[0m\u001b[0mreshape\u001b[0m\u001b[0;34m.\u001b[0m\u001b[0mmerge\u001b[0m \u001b[0;32mimport\u001b[0m \u001b[0mmerge\u001b[0m\u001b[0;34m\u001b[0m\u001b[0;34m\u001b[0m\u001b[0m\n\u001b[1;32m   7938\u001b[0m \u001b[0;34m\u001b[0m\u001b[0m\n\u001b[0;32m-> 7939\u001b[0;31m         return merge(\n\u001b[0m\u001b[1;32m   7940\u001b[0m             \u001b[0mself\u001b[0m\u001b[0;34m,\u001b[0m\u001b[0;34m\u001b[0m\u001b[0;34m\u001b[0m\u001b[0m\n\u001b[1;32m   7941\u001b[0m             \u001b[0mright\u001b[0m\u001b[0;34m,\u001b[0m\u001b[0;34m\u001b[0m\u001b[0;34m\u001b[0m\u001b[0m\n",
      "\u001b[0;32m/usr/local/lib/python3.8/dist-packages/pandas/core/reshape/merge.py\u001b[0m in \u001b[0;36mmerge\u001b[0;34m(left, right, how, on, left_on, right_on, left_index, right_index, sort, suffixes, copy, indicator, validate)\u001b[0m\n\u001b[1;32m     72\u001b[0m     \u001b[0mvalidate\u001b[0m\u001b[0;34m=\u001b[0m\u001b[0;32mNone\u001b[0m\u001b[0;34m,\u001b[0m\u001b[0;34m\u001b[0m\u001b[0;34m\u001b[0m\u001b[0m\n\u001b[1;32m     73\u001b[0m ) -> \"DataFrame\":\n\u001b[0;32m---> 74\u001b[0;31m     op = _MergeOperation(\n\u001b[0m\u001b[1;32m     75\u001b[0m         \u001b[0mleft\u001b[0m\u001b[0;34m,\u001b[0m\u001b[0;34m\u001b[0m\u001b[0;34m\u001b[0m\u001b[0m\n\u001b[1;32m     76\u001b[0m         \u001b[0mright\u001b[0m\u001b[0;34m,\u001b[0m\u001b[0;34m\u001b[0m\u001b[0;34m\u001b[0m\u001b[0m\n",
      "\u001b[0;32m/usr/local/lib/python3.8/dist-packages/pandas/core/reshape/merge.py\u001b[0m in \u001b[0;36m__init__\u001b[0;34m(self, left, right, how, on, left_on, right_on, axis, left_index, right_index, sort, suffixes, copy, indicator, validate)\u001b[0m\n\u001b[1;32m    643\u001b[0m             \u001b[0mwarnings\u001b[0m\u001b[0;34m.\u001b[0m\u001b[0mwarn\u001b[0m\u001b[0;34m(\u001b[0m\u001b[0mmsg\u001b[0m\u001b[0;34m,\u001b[0m \u001b[0mUserWarning\u001b[0m\u001b[0;34m)\u001b[0m\u001b[0;34m\u001b[0m\u001b[0;34m\u001b[0m\u001b[0m\n\u001b[1;32m    644\u001b[0m \u001b[0;34m\u001b[0m\u001b[0m\n\u001b[0;32m--> 645\u001b[0;31m         \u001b[0mself\u001b[0m\u001b[0;34m.\u001b[0m\u001b[0m_validate_specification\u001b[0m\u001b[0;34m(\u001b[0m\u001b[0;34m)\u001b[0m\u001b[0;34m\u001b[0m\u001b[0;34m\u001b[0m\u001b[0m\n\u001b[0m\u001b[1;32m    646\u001b[0m \u001b[0;34m\u001b[0m\u001b[0m\n\u001b[1;32m    647\u001b[0m         \u001b[0;31m# note this function has side effects\u001b[0m\u001b[0;34m\u001b[0m\u001b[0;34m\u001b[0m\u001b[0;34m\u001b[0m\u001b[0m\n",
      "\u001b[0;32m/usr/local/lib/python3.8/dist-packages/pandas/core/reshape/merge.py\u001b[0m in \u001b[0;36m_validate_specification\u001b[0;34m(self)\u001b[0m\n\u001b[1;32m   1247\u001b[0m                     )\n\u001b[1;32m   1248\u001b[0m                 \u001b[0mself\u001b[0m\u001b[0;34m.\u001b[0m\u001b[0mleft_on\u001b[0m \u001b[0;34m=\u001b[0m \u001b[0;34m[\u001b[0m\u001b[0;32mNone\u001b[0m\u001b[0;34m]\u001b[0m \u001b[0;34m*\u001b[0m \u001b[0mn\u001b[0m\u001b[0;34m\u001b[0m\u001b[0;34m\u001b[0m\u001b[0m\n\u001b[0;32m-> 1249\u001b[0;31m         \u001b[0;32mif\u001b[0m \u001b[0mlen\u001b[0m\u001b[0;34m(\u001b[0m\u001b[0mself\u001b[0m\u001b[0;34m.\u001b[0m\u001b[0mright_on\u001b[0m\u001b[0;34m)\u001b[0m \u001b[0;34m!=\u001b[0m \u001b[0mlen\u001b[0m\u001b[0;34m(\u001b[0m\u001b[0mself\u001b[0m\u001b[0;34m.\u001b[0m\u001b[0mleft_on\u001b[0m\u001b[0;34m)\u001b[0m\u001b[0;34m:\u001b[0m\u001b[0;34m\u001b[0m\u001b[0;34m\u001b[0m\u001b[0m\n\u001b[0m\u001b[1;32m   1250\u001b[0m             \u001b[0;32mraise\u001b[0m \u001b[0mValueError\u001b[0m\u001b[0;34m(\u001b[0m\u001b[0;34m\"len(right_on) must equal len(left_on)\"\u001b[0m\u001b[0;34m)\u001b[0m\u001b[0;34m\u001b[0m\u001b[0;34m\u001b[0m\u001b[0m\n\u001b[1;32m   1251\u001b[0m \u001b[0;34m\u001b[0m\u001b[0m\n",
      "\u001b[0;31mTypeError\u001b[0m: object of type 'NoneType' has no len()"
     ]
    }
   ],
   "source": [
    "movies.merge(reviews, how='left', left_on='Title', copy=True, indicator=True)"
   ]
  },
  {
   "cell_type": "code",
   "execution_count": null,
   "metadata": {},
   "outputs": [],
   "source": []
  },
  {
   "cell_type": "code",
   "execution_count": null,
   "metadata": {},
   "outputs": [],
   "source": []
  },
  {
   "cell_type": "code",
   "execution_count": null,
   "metadata": {},
   "outputs": [],
   "source": []
  },
  {
   "cell_type": "code",
   "execution_count": null,
   "metadata": {},
   "outputs": [],
   "source": []
  },
  {
   "cell_type": "code",
   "execution_count": null,
   "metadata": {},
   "outputs": [],
   "source": []
  },
  {
   "cell_type": "code",
   "execution_count": null,
   "metadata": {},
   "outputs": [],
   "source": []
  },
  {
   "cell_type": "code",
   "execution_count": null,
   "metadata": {},
   "outputs": [],
   "source": []
  },
  {
   "cell_type": "code",
   "execution_count": null,
   "metadata": {},
   "outputs": [],
   "source": []
  },
  {
   "cell_type": "code",
   "execution_count": null,
   "metadata": {},
   "outputs": [],
   "source": []
  },
  {
   "cell_type": "code",
   "execution_count": null,
   "metadata": {},
   "outputs": [],
   "source": []
  },
  {
   "cell_type": "code",
   "execution_count": null,
   "metadata": {},
   "outputs": [],
   "source": [
    "    while data['has_more']==True:\n",
    "        i+=1\n",
    "        response = requests.get(url, headers=requestHeaders)\n",
    "        print(f'Loading page {i}')\n",
    "        data.update(response.json())\n",
    "        print(data)"
   ]
  },
  {
   "cell_type": "code",
   "execution_count": null,
   "metadata": {},
   "outputs": [],
   "source": []
  },
  {
   "cell_type": "code",
   "execution_count": null,
   "metadata": {},
   "outputs": [],
   "source": []
  },
  {
   "cell_type": "code",
   "execution_count": null,
   "metadata": {},
   "outputs": [],
   "source": []
  },
  {
   "cell_type": "code",
   "execution_count": 9,
   "metadata": {},
   "outputs": [
    {
     "data": {
      "text/plain": [
       "str"
      ]
     },
     "execution_count": 9,
     "metadata": {},
     "output_type": "execute_result"
    }
   ],
   "source": [
    "type(data.text)"
   ]
  },
  {
   "cell_type": "code",
   "execution_count": 63,
   "metadata": {},
   "outputs": [
    {
     "data": {
      "text/plain": [
       "20"
      ]
     },
     "execution_count": 63,
     "metadata": {},
     "output_type": "execute_result"
    }
   ],
   "source": [
    "reviews['num_results']"
   ]
  },
  {
   "cell_type": "code",
   "execution_count": null,
   "metadata": {},
   "outputs": [],
   "source": []
  }
 ],
 "metadata": {
  "kernelspec": {
   "display_name": "Python 3",
   "language": "python",
   "name": "python3"
  },
  "language_info": {
   "codemirror_mode": {
    "name": "ipython",
    "version": 3
   },
   "file_extension": ".py",
   "mimetype": "text/x-python",
   "name": "python",
   "nbconvert_exporter": "python",
   "pygments_lexer": "ipython3",
   "version": "3.8.2"
  }
 },
 "nbformat": 4,
 "nbformat_minor": 4
}
