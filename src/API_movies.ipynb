{
 "cells": [
  {
   "cell_type": "code",
   "execution_count": 46,
   "metadata": {},
   "outputs": [],
   "source": [
    "import requests\n",
    "from bs4 import BeautifulSoup\n",
    "import os\n",
    "from dotenv import load_dotenv\n",
    "from pathlib import Path  # Python 3.6+ only\n",
    "env_path = Path('/src') / '.env'"
   ]
  },
  {
   "cell_type": "code",
   "execution_count": 47,
   "metadata": {},
   "outputs": [],
   "source": [
    "load_dotenv(dotenv_path=env_path)\n",
    "def getUrl(query,api_key):\n",
    "    url = f\"https://api.nytimes.com/svc/movies/v2/reviews/search.json?order=by-title&query={query}&api-key={api_key}\"\n",
    "    \n",
    "    requestHeaders = {\n",
    "    \"Accept\": \"application/json\"\n",
    "  }\n",
    "    response = requests.get(url, headers=requestHeaders)\n",
    "    print(f\"Requested data; status_code:{response.status_code}\")\n",
    "    #data=BeautifulSoup(response.text,'html.parser')\n",
    "    data=response.json()\n",
    "\n",
    "    return data\n",
    "\n"
   ]
  },
  {
   "cell_type": "code",
   "execution_count": 48,
   "metadata": {},
   "outputs": [
    {
     "name": "stdout",
     "output_type": "stream",
     "text": [
      "Requested data; status_code:200\n"
     ]
    }
   ],
   "source": [
    "query='star%20wars'\n",
    "api_key=os.getenv('NYT_APIKEY')\n",
    "reviews=getUrl(query,api_key)"
   ]
  },
  {
   "cell_type": "code",
   "execution_count": 39,
   "metadata": {},
   "outputs": [
    {
     "data": {
      "text/plain": [
       "dict_keys(['status', 'copyright', 'has_more', 'num_results', 'results'])"
      ]
     },
     "execution_count": 39,
     "metadata": {},
     "output_type": "execute_result"
    }
   ],
   "source": [
    "reviews.keys()"
   ]
  },
  {
   "cell_type": "code",
   "execution_count": null,
   "metadata": {},
   "outputs": [],
   "source": []
  },
  {
   "cell_type": "code",
   "execution_count": null,
   "metadata": {},
   "outputs": [],
   "source": []
  }
 ],
 "metadata": {
  "kernelspec": {
   "display_name": "Python 3",
   "language": "python",
   "name": "python3"
  },
  "language_info": {
   "codemirror_mode": {
    "name": "ipython",
    "version": 3
   },
   "file_extension": ".py",
   "mimetype": "text/x-python",
   "name": "python",
   "nbconvert_exporter": "python",
   "pygments_lexer": "ipython3",
   "version": "3.8.2"
  }
 },
 "nbformat": 4,
 "nbformat_minor": 4
}
