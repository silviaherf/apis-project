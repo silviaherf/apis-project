{
 "cells": [
  {
   "cell_type": "code",
   "execution_count": 1,
   "metadata": {},
   "outputs": [],
   "source": [
    "import requests\n",
    "from bs4 import BeautifulSoup"
   ]
  },
  {
   "cell_type": "code",
   "execution_count": null,
   "metadata": {},
   "outputs": [],
   "source": [
    "#pendiente identificacion con api_key"
   ]
  },
  {
   "cell_type": "code",
   "execution_count": null,
   "metadata": {},
   "outputs": [],
   "source": [
    "def execute(query,api_key):\n",
    "  url = f\"https://api.nytimes.com/svc/movies/v2/reviews/search.json?order=by-title&query={query}&api-key={api_key}\"\n",
    "  requestHeaders = {\n",
    "    \"Accept\": \"application/json\"\n",
    "  }\n",
    "\n",
    "  request = requests.get(url)\n",
    "    response=BeautifulSoup(request,'html.parser')\n",
    "  \n",
    "print request.content\n",
    "\n",
    "if __name__ == \"__main__\":\n",
    "  execute()\n"
   ]
  },
  {
   "cell_type": "code",
   "execution_count": null,
   "metadata": {},
   "outputs": [],
   "source": [
    "query=star%20wars\n",
    "api_key"
   ]
  }
 ],
 "metadata": {
  "kernelspec": {
   "display_name": "Python 3",
   "language": "python",
   "name": "python3"
  },
  "language_info": {
   "codemirror_mode": {
    "name": "ipython",
    "version": 3
   },
   "file_extension": ".py",
   "mimetype": "text/x-python",
   "name": "python",
   "nbconvert_exporter": "python",
   "pygments_lexer": "ipython3",
   "version": "3.8.2"
  }
 },
 "nbformat": 4,
 "nbformat_minor": 4
}
